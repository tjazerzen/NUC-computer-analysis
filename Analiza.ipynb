{
 "cells": [
  {
   "cell_type": "markdown",
   "id": "755a7e72",
   "metadata": {},
   "source": [
    "# Analiza računalnikov na [nemškem Amazonu](https://www.amazon.de/s?k=nuc&page=2&language=en&crid=3VIZDYTXC6EN7&qid=1666151008&sprefix=n%2Caps%2C187&ref=sr_pg_2)"
   ]
  },
  {
   "cell_type": "markdown",
   "id": "75ee68c1",
   "metadata": {},
   "source": [
    "Projektna naloga pri predmetu Programiranje 1"
   ]
  },
  {
   "cell_type": "markdown",
   "id": "d587397b",
   "metadata": {},
   "source": [
    "## 0. Priprava podatkov"
   ]
  },
  {
   "cell_type": "markdown",
   "id": "98e81fe0",
   "metadata": {},
   "source": [
    "Preden začnemo, moramo uvoziti vnaprej pripravljene podatke. V ta namen uporabimo knjižnico pandas in vnesemo podatke v tabele."
   ]
  },
  {
   "cell_type": "code",
   "execution_count": 275,
   "id": "89ec116e",
   "metadata": {},
   "outputs": [],
   "source": [
    "import pandas as pd\n",
    "import os\n",
    "import numpy as np\n",
    "\n",
    "import subprocess\n",
    "import sys\n",
    "import matplotlib.pyplot as plt\n",
    "\n",
    "# izberemo interaktivni stil risanja\",\n",
    "%matplotlib inline\n",
    "\n",
    "# spremenimo velikost figur\n",
    "plt.rcParams['figure.figsize'] = (10, 5)\n",
    "\n",
    "pd.set_option('display.max_rows', 20)"
   ]
  },
  {
   "cell_type": "code",
   "execution_count": 276,
   "id": "eda76bef",
   "metadata": {},
   "outputs": [],
   "source": [
    "import matplotlib.pyplot as plt"
   ]
  },
  {
   "cell_type": "code",
   "execution_count": 277,
   "id": "1a0de5bf",
   "metadata": {},
   "outputs": [],
   "source": [
    "pot_do_nucov = os.path.join('obdelani-podatki', 'nuci.csv')\n",
    "pot_do_operacijskih_sistemov = os.path.join('obdelani-podatki', 'operacijski_sistem.csv')\n",
    "pot_do_proizvajalcev = os.path.join('obdelani-podatki', 'proizvajalci.csv')\n",
    "pot_do_ram = os.path.join('obdelani-podatki', 'ram.csv')\n",
    "pot_do_ssd = os.path.join('obdelani-podatki', 'ssd.csv')\n",
    "\n",
    "nuci = pd.read_csv(pot_do_nucov)\n",
    "operacijski_sistemi = pd.read_csv(pot_do_operacijskih_sistemov)\n",
    "proizvajalci = pd.read_csv(pot_do_proizvajalcev)\n",
    "ram = pd.read_csv(pot_do_ram)\n",
    "ssd = pd.read_csv(pot_do_ssd)"
   ]
  },
  {
   "cell_type": "markdown",
   "id": "d8f81b5c",
   "metadata": {},
   "source": [
    "Tukaj še malo očistim podatke, saj nam gredo NUC-i brez cene samo v napoto "
   ]
  },
  {
   "cell_type": "code",
   "execution_count": 278,
   "id": "f8d59f62",
   "metadata": {},
   "outputs": [],
   "source": [
    "nuci['stevilo_ocen'] = nuci['stevilo_ocen'].apply(lambda s: s.replace(\",\", \"\"))\n",
    "nuci = nuci[\n",
    "    (nuci['cena'] != -1) & (nuci['ocena'] != -1)\n",
    "].astype(\n",
    "    {'stevilo_ocen': 'int64'}\n",
    ").sort_values(\n",
    "    'cena', ascending=False\n",
    ")"
   ]
  },
  {
   "cell_type": "markdown",
   "id": "5648ae7e",
   "metadata": {},
   "source": [
    "Sedaj si oglejmo, katere podatke smo zajeli. Začnimo z glavno tabelo, tabelo NUCov. Kot vidimo, so zajeta naslednja polja:\n",
    "- opis\n",
    "- cena\n",
    "- id\n",
    "- vrednost_kupona\n",
    "- ocena\n",
    "- stevilo_ocen\n",
    "- cas_dostave\n",
    "- amazons_choice\n",
    "- produkt_sponzoriran\n",
    "- proizvajalec_id\n",
    "- OS_id\n",
    "- ssd_id\n",
    "- ram_id"
   ]
  },
  {
   "cell_type": "code",
   "execution_count": 279,
   "id": "9bc316a8",
   "metadata": {},
   "outputs": [
    {
     "data": {
      "text/html": [
       "<div>\n",
       "<style scoped>\n",
       "    .dataframe tbody tr th:only-of-type {\n",
       "        vertical-align: middle;\n",
       "    }\n",
       "\n",
       "    .dataframe tbody tr th {\n",
       "        vertical-align: top;\n",
       "    }\n",
       "\n",
       "    .dataframe thead th {\n",
       "        text-align: right;\n",
       "    }\n",
       "</style>\n",
       "<table border=\"1\" class=\"dataframe\">\n",
       "  <thead>\n",
       "    <tr style=\"text-align: right;\">\n",
       "      <th></th>\n",
       "      <th>opis</th>\n",
       "      <th>cena</th>\n",
       "      <th>id</th>\n",
       "      <th>vrednost_kupona</th>\n",
       "      <th>ocena</th>\n",
       "      <th>stevilo_ocen</th>\n",
       "      <th>cas_dostave</th>\n",
       "      <th>amazons_choice</th>\n",
       "      <th>produkt_sponzoriran</th>\n",
       "      <th>proizvajalec_id</th>\n",
       "      <th>OS_id</th>\n",
       "      <th>ssd_id</th>\n",
       "      <th>ram_id</th>\n",
       "    </tr>\n",
       "  </thead>\n",
       "  <tbody>\n",
       "    <tr>\n",
       "      <th>123</th>\n",
       "      <td>Corsair ONE i300 Compact Gaming PC (Intel Core...</td>\n",
       "      <td>4099.99</td>\n",
       "      <td>B09QMG89VL</td>\n",
       "      <td>0.0</td>\n",
       "      <td>4.2</td>\n",
       "      <td>3</td>\n",
       "      <td>9</td>\n",
       "      <td>False</td>\n",
       "      <td>False</td>\n",
       "      <td>1</td>\n",
       "      <td>1</td>\n",
       "      <td>18</td>\n",
       "      <td>12</td>\n",
       "    </tr>\n",
       "    <tr>\n",
       "      <th>249</th>\n",
       "      <td>Corsair ONE i300 Compact Gaming PC (Intel Core...</td>\n",
       "      <td>4099.99</td>\n",
       "      <td>B09QMG89VL</td>\n",
       "      <td>0.0</td>\n",
       "      <td>4.2</td>\n",
       "      <td>3</td>\n",
       "      <td>9</td>\n",
       "      <td>False</td>\n",
       "      <td>False</td>\n",
       "      <td>1</td>\n",
       "      <td>1</td>\n",
       "      <td>18</td>\n",
       "      <td>12</td>\n",
       "    </tr>\n",
       "    <tr>\n",
       "      <th>326</th>\n",
       "      <td>Intel NUC 9 Pro Kit with 9th Generation Intel ...</td>\n",
       "      <td>2013.71</td>\n",
       "      <td>B086LFB22V</td>\n",
       "      <td>0.0</td>\n",
       "      <td>5.0</td>\n",
       "      <td>7</td>\n",
       "      <td>-1</td>\n",
       "      <td>False</td>\n",
       "      <td>False</td>\n",
       "      <td>1</td>\n",
       "      <td>5</td>\n",
       "      <td>18</td>\n",
       "      <td>12</td>\n",
       "    </tr>\n",
       "    <tr>\n",
       "      <th>231</th>\n",
       "      <td>Intel NUC BKNUC9VXQNX2 PC / Workstation Barebo...</td>\n",
       "      <td>1829.69</td>\n",
       "      <td>B084K1SV45</td>\n",
       "      <td>0.0</td>\n",
       "      <td>4.2</td>\n",
       "      <td>5</td>\n",
       "      <td>15</td>\n",
       "      <td>False</td>\n",
       "      <td>False</td>\n",
       "      <td>1</td>\n",
       "      <td>4</td>\n",
       "      <td>18</td>\n",
       "      <td>12</td>\n",
       "    </tr>\n",
       "    <tr>\n",
       "      <th>31</th>\n",
       "      <td>Intel NUC 11, Intel Core i7-1165G7, 2.8-4.7GHz...</td>\n",
       "      <td>1699.99</td>\n",
       "      <td>B09KR9QQCR</td>\n",
       "      <td>0.0</td>\n",
       "      <td>4.5</td>\n",
       "      <td>12</td>\n",
       "      <td>21</td>\n",
       "      <td>False</td>\n",
       "      <td>False</td>\n",
       "      <td>1</td>\n",
       "      <td>5</td>\n",
       "      <td>18</td>\n",
       "      <td>12</td>\n",
       "    </tr>\n",
       "  </tbody>\n",
       "</table>\n",
       "</div>"
      ],
      "text/plain": [
       "                                                  opis     cena          id  \\\n",
       "123  Corsair ONE i300 Compact Gaming PC (Intel Core...  4099.99  B09QMG89VL   \n",
       "249  Corsair ONE i300 Compact Gaming PC (Intel Core...  4099.99  B09QMG89VL   \n",
       "326  Intel NUC 9 Pro Kit with 9th Generation Intel ...  2013.71  B086LFB22V   \n",
       "231  Intel NUC BKNUC9VXQNX2 PC / Workstation Barebo...  1829.69  B084K1SV45   \n",
       "31   Intel NUC 11, Intel Core i7-1165G7, 2.8-4.7GHz...  1699.99  B09KR9QQCR   \n",
       "\n",
       "     vrednost_kupona  ocena  stevilo_ocen  cas_dostave  amazons_choice  \\\n",
       "123              0.0    4.2             3            9           False   \n",
       "249              0.0    4.2             3            9           False   \n",
       "326              0.0    5.0             7           -1           False   \n",
       "231              0.0    4.2             5           15           False   \n",
       "31               0.0    4.5            12           21           False   \n",
       "\n",
       "     produkt_sponzoriran  proizvajalec_id  OS_id  ssd_id  ram_id  \n",
       "123                False                1      1      18      12  \n",
       "249                False                1      1      18      12  \n",
       "326                False                1      5      18      12  \n",
       "231                False                1      4      18      12  \n",
       "31                 False                1      5      18      12  "
      ]
     },
     "execution_count": 279,
     "metadata": {},
     "output_type": "execute_result"
    }
   ],
   "source": [
    "nuci.head()"
   ]
  },
  {
   "cell_type": "markdown",
   "id": "e8e4a95d",
   "metadata": {},
   "source": [
    "V tabeli operacijski_sistemi je shranjena povezava med operacijskimi sistemi in njihovimi ID-ji. S tem poskrbim, da so podatki o operacijskih sistemih normalizirani."
   ]
  },
  {
   "cell_type": "code",
   "execution_count": 280,
   "id": "d21a0081",
   "metadata": {},
   "outputs": [
    {
     "data": {
      "text/html": [
       "<div>\n",
       "<style scoped>\n",
       "    .dataframe tbody tr th:only-of-type {\n",
       "        vertical-align: middle;\n",
       "    }\n",
       "\n",
       "    .dataframe tbody tr th {\n",
       "        vertical-align: top;\n",
       "    }\n",
       "\n",
       "    .dataframe thead th {\n",
       "        text-align: right;\n",
       "    }\n",
       "</style>\n",
       "<table border=\"1\" class=\"dataframe\">\n",
       "  <thead>\n",
       "    <tr style=\"text-align: right;\">\n",
       "      <th></th>\n",
       "      <th>operacijski_sistem_id</th>\n",
       "      <th>operacijski_sistem</th>\n",
       "    </tr>\n",
       "  </thead>\n",
       "  <tbody>\n",
       "    <tr>\n",
       "      <th>0</th>\n",
       "      <td>1</td>\n",
       "      <td>Windows</td>\n",
       "    </tr>\n",
       "    <tr>\n",
       "      <th>1</th>\n",
       "      <td>2</td>\n",
       "      <td>OS X</td>\n",
       "    </tr>\n",
       "    <tr>\n",
       "      <th>2</th>\n",
       "      <td>3</td>\n",
       "      <td>Linux</td>\n",
       "    </tr>\n",
       "    <tr>\n",
       "      <th>3</th>\n",
       "      <td>4</td>\n",
       "      <td>no OS</td>\n",
       "    </tr>\n",
       "    <tr>\n",
       "      <th>4</th>\n",
       "      <td>5</td>\n",
       "      <td>unknown</td>\n",
       "    </tr>\n",
       "  </tbody>\n",
       "</table>\n",
       "</div>"
      ],
      "text/plain": [
       "   operacijski_sistem_id operacijski_sistem\n",
       "0                      1            Windows\n",
       "1                      2               OS X\n",
       "2                      3              Linux\n",
       "3                      4              no OS\n",
       "4                      5            unknown"
      ]
     },
     "execution_count": 280,
     "metadata": {},
     "output_type": "execute_result"
    }
   ],
   "source": [
    "operacijski_sistemi"
   ]
  },
  {
   "cell_type": "markdown",
   "id": "14b8788c",
   "metadata": {},
   "source": [
    "Na podoben način poskrbim na normalizacijo podatkov med proizvajalci, RAM-om in SSD-jem:"
   ]
  },
  {
   "cell_type": "code",
   "execution_count": 281,
   "id": "4f048d2f",
   "metadata": {},
   "outputs": [
    {
     "data": {
      "text/html": [
       "<div>\n",
       "<style scoped>\n",
       "    .dataframe tbody tr th:only-of-type {\n",
       "        vertical-align: middle;\n",
       "    }\n",
       "\n",
       "    .dataframe tbody tr th {\n",
       "        vertical-align: top;\n",
       "    }\n",
       "\n",
       "    .dataframe thead th {\n",
       "        text-align: right;\n",
       "    }\n",
       "</style>\n",
       "<table border=\"1\" class=\"dataframe\">\n",
       "  <thead>\n",
       "    <tr style=\"text-align: right;\">\n",
       "      <th></th>\n",
       "      <th>proizvajalec_id</th>\n",
       "      <th>proizvajalec</th>\n",
       "    </tr>\n",
       "  </thead>\n",
       "  <tbody>\n",
       "    <tr>\n",
       "      <th>0</th>\n",
       "      <td>1</td>\n",
       "      <td>Intel</td>\n",
       "    </tr>\n",
       "    <tr>\n",
       "      <th>1</th>\n",
       "      <td>2</td>\n",
       "      <td>GEEKOM</td>\n",
       "    </tr>\n",
       "    <tr>\n",
       "      <th>2</th>\n",
       "      <td>3</td>\n",
       "      <td>MINIS FORUM</td>\n",
       "    </tr>\n",
       "    <tr>\n",
       "      <th>3</th>\n",
       "      <td>4</td>\n",
       "      <td>Shinobee</td>\n",
       "    </tr>\n",
       "    <tr>\n",
       "      <th>4</th>\n",
       "      <td>5</td>\n",
       "      <td>Chuwi</td>\n",
       "    </tr>\n",
       "    <tr>\n",
       "      <th>...</th>\n",
       "      <td>...</td>\n",
       "      <td>...</td>\n",
       "    </tr>\n",
       "    <tr>\n",
       "      <th>17</th>\n",
       "      <td>18</td>\n",
       "      <td>ZOTAC</td>\n",
       "    </tr>\n",
       "    <tr>\n",
       "      <th>18</th>\n",
       "      <td>19</td>\n",
       "      <td>Beelink</td>\n",
       "    </tr>\n",
       "    <tr>\n",
       "      <th>19</th>\n",
       "      <td>20</td>\n",
       "      <td>Fujitsu</td>\n",
       "    </tr>\n",
       "    <tr>\n",
       "      <th>20</th>\n",
       "      <td>21</td>\n",
       "      <td>MeLE</td>\n",
       "    </tr>\n",
       "    <tr>\n",
       "      <th>21</th>\n",
       "      <td>22</td>\n",
       "      <td>unknown</td>\n",
       "    </tr>\n",
       "  </tbody>\n",
       "</table>\n",
       "<p>22 rows × 2 columns</p>\n",
       "</div>"
      ],
      "text/plain": [
       "    proizvajalec_id proizvajalec\n",
       "0                 1        Intel\n",
       "1                 2       GEEKOM\n",
       "2                 3  MINIS FORUM\n",
       "3                 4     Shinobee\n",
       "4                 5        Chuwi\n",
       "..              ...          ...\n",
       "17               18        ZOTAC\n",
       "18               19      Beelink\n",
       "19               20      Fujitsu\n",
       "20               21         MeLE\n",
       "21               22      unknown\n",
       "\n",
       "[22 rows x 2 columns]"
      ]
     },
     "execution_count": 281,
     "metadata": {},
     "output_type": "execute_result"
    }
   ],
   "source": [
    "proizvajalci"
   ]
  },
  {
   "cell_type": "code",
   "execution_count": 282,
   "id": "502dc463",
   "metadata": {},
   "outputs": [
    {
     "data": {
      "text/html": [
       "<div>\n",
       "<style scoped>\n",
       "    .dataframe tbody tr th:only-of-type {\n",
       "        vertical-align: middle;\n",
       "    }\n",
       "\n",
       "    .dataframe tbody tr th {\n",
       "        vertical-align: top;\n",
       "    }\n",
       "\n",
       "    .dataframe thead th {\n",
       "        text-align: right;\n",
       "    }\n",
       "</style>\n",
       "<table border=\"1\" class=\"dataframe\">\n",
       "  <thead>\n",
       "    <tr style=\"text-align: right;\">\n",
       "      <th></th>\n",
       "      <th>ram_id</th>\n",
       "      <th>ram</th>\n",
       "    </tr>\n",
       "  </thead>\n",
       "  <tbody>\n",
       "    <tr>\n",
       "      <th>0</th>\n",
       "      <td>1</td>\n",
       "      <td>4</td>\n",
       "    </tr>\n",
       "    <tr>\n",
       "      <th>1</th>\n",
       "      <td>2</td>\n",
       "      <td>6</td>\n",
       "    </tr>\n",
       "    <tr>\n",
       "      <th>2</th>\n",
       "      <td>3</td>\n",
       "      <td>8</td>\n",
       "    </tr>\n",
       "    <tr>\n",
       "      <th>3</th>\n",
       "      <td>4</td>\n",
       "      <td>12</td>\n",
       "    </tr>\n",
       "    <tr>\n",
       "      <th>4</th>\n",
       "      <td>5</td>\n",
       "      <td>16</td>\n",
       "    </tr>\n",
       "    <tr>\n",
       "      <th>5</th>\n",
       "      <td>6</td>\n",
       "      <td>32</td>\n",
       "    </tr>\n",
       "    <tr>\n",
       "      <th>6</th>\n",
       "      <td>7</td>\n",
       "      <td>46</td>\n",
       "    </tr>\n",
       "    <tr>\n",
       "      <th>7</th>\n",
       "      <td>8</td>\n",
       "      <td>48</td>\n",
       "    </tr>\n",
       "    <tr>\n",
       "      <th>8</th>\n",
       "      <td>9</td>\n",
       "      <td>58</td>\n",
       "    </tr>\n",
       "    <tr>\n",
       "      <th>9</th>\n",
       "      <td>10</td>\n",
       "      <td>64</td>\n",
       "    </tr>\n",
       "    <tr>\n",
       "      <th>10</th>\n",
       "      <td>11</td>\n",
       "      <td>128</td>\n",
       "    </tr>\n",
       "    <tr>\n",
       "      <th>11</th>\n",
       "      <td>12</td>\n",
       "      <td>unknown</td>\n",
       "    </tr>\n",
       "  </tbody>\n",
       "</table>\n",
       "</div>"
      ],
      "text/plain": [
       "    ram_id      ram\n",
       "0        1        4\n",
       "1        2        6\n",
       "2        3        8\n",
       "3        4       12\n",
       "4        5       16\n",
       "5        6       32\n",
       "6        7       46\n",
       "7        8       48\n",
       "8        9       58\n",
       "9       10       64\n",
       "10      11      128\n",
       "11      12  unknown"
      ]
     },
     "execution_count": 282,
     "metadata": {},
     "output_type": "execute_result"
    }
   ],
   "source": [
    "ram"
   ]
  },
  {
   "cell_type": "code",
   "execution_count": 283,
   "id": "4cd757f2",
   "metadata": {},
   "outputs": [
    {
     "data": {
      "text/html": [
       "<div>\n",
       "<style scoped>\n",
       "    .dataframe tbody tr th:only-of-type {\n",
       "        vertical-align: middle;\n",
       "    }\n",
       "\n",
       "    .dataframe tbody tr th {\n",
       "        vertical-align: top;\n",
       "    }\n",
       "\n",
       "    .dataframe thead th {\n",
       "        text-align: right;\n",
       "    }\n",
       "</style>\n",
       "<table border=\"1\" class=\"dataframe\">\n",
       "  <thead>\n",
       "    <tr style=\"text-align: right;\">\n",
       "      <th></th>\n",
       "      <th>ssd_id</th>\n",
       "      <th>ssd</th>\n",
       "    </tr>\n",
       "  </thead>\n",
       "  <tbody>\n",
       "    <tr>\n",
       "      <th>0</th>\n",
       "      <td>1</td>\n",
       "      <td>0</td>\n",
       "    </tr>\n",
       "    <tr>\n",
       "      <th>1</th>\n",
       "      <td>2</td>\n",
       "      <td>1</td>\n",
       "    </tr>\n",
       "    <tr>\n",
       "      <th>2</th>\n",
       "      <td>3</td>\n",
       "      <td>2</td>\n",
       "    </tr>\n",
       "    <tr>\n",
       "      <th>3</th>\n",
       "      <td>4</td>\n",
       "      <td>16</td>\n",
       "    </tr>\n",
       "    <tr>\n",
       "      <th>4</th>\n",
       "      <td>5</td>\n",
       "      <td>32</td>\n",
       "    </tr>\n",
       "    <tr>\n",
       "      <th>5</th>\n",
       "      <td>6</td>\n",
       "      <td>64</td>\n",
       "    </tr>\n",
       "    <tr>\n",
       "      <th>6</th>\n",
       "      <td>7</td>\n",
       "      <td>120</td>\n",
       "    </tr>\n",
       "    <tr>\n",
       "      <th>7</th>\n",
       "      <td>8</td>\n",
       "      <td>128</td>\n",
       "    </tr>\n",
       "    <tr>\n",
       "      <th>8</th>\n",
       "      <td>9</td>\n",
       "      <td>240</td>\n",
       "    </tr>\n",
       "    <tr>\n",
       "      <th>9</th>\n",
       "      <td>10</td>\n",
       "      <td>250</td>\n",
       "    </tr>\n",
       "    <tr>\n",
       "      <th>10</th>\n",
       "      <td>11</td>\n",
       "      <td>256</td>\n",
       "    </tr>\n",
       "    <tr>\n",
       "      <th>11</th>\n",
       "      <td>12</td>\n",
       "      <td>500</td>\n",
       "    </tr>\n",
       "    <tr>\n",
       "      <th>12</th>\n",
       "      <td>13</td>\n",
       "      <td>512</td>\n",
       "    </tr>\n",
       "    <tr>\n",
       "      <th>13</th>\n",
       "      <td>14</td>\n",
       "      <td>1000</td>\n",
       "    </tr>\n",
       "    <tr>\n",
       "      <th>14</th>\n",
       "      <td>15</td>\n",
       "      <td>1024</td>\n",
       "    </tr>\n",
       "    <tr>\n",
       "      <th>15</th>\n",
       "      <td>16</td>\n",
       "      <td>2000</td>\n",
       "    </tr>\n",
       "    <tr>\n",
       "      <th>16</th>\n",
       "      <td>17</td>\n",
       "      <td>2048</td>\n",
       "    </tr>\n",
       "    <tr>\n",
       "      <th>17</th>\n",
       "      <td>18</td>\n",
       "      <td>unknown</td>\n",
       "    </tr>\n",
       "  </tbody>\n",
       "</table>\n",
       "</div>"
      ],
      "text/plain": [
       "    ssd_id      ssd\n",
       "0        1        0\n",
       "1        2        1\n",
       "2        3        2\n",
       "3        4       16\n",
       "4        5       32\n",
       "5        6       64\n",
       "6        7      120\n",
       "7        8      128\n",
       "8        9      240\n",
       "9       10      250\n",
       "10      11      256\n",
       "11      12      500\n",
       "12      13      512\n",
       "13      14     1000\n",
       "14      15     1024\n",
       "15      16     2000\n",
       "16      17     2048\n",
       "17      18  unknown"
      ]
     },
     "execution_count": 283,
     "metadata": {},
     "output_type": "execute_result"
    }
   ],
   "source": [
    "ssd"
   ]
  },
  {
   "cell_type": "markdown",
   "id": "03000c89",
   "metadata": {},
   "source": [
    "## 1. Analiza podatkov"
   ]
  },
  {
   "cell_type": "markdown",
   "id": "f9fd1b16",
   "metadata": {},
   "source": [
    "### 1.1 Porazdelitev računalnikov po ceni"
   ]
  },
  {
   "cell_type": "markdown",
   "id": "9efbc598",
   "metadata": {},
   "source": [
    "Glavni dejavnik, ki bo vplival na odločitev nakupa za računalnik, bo vedno cena. Zanima me, kakšna je porazdelitev računalnikov glede na ceno."
   ]
  },
  {
   "cell_type": "code",
   "execution_count": 284,
   "id": "292f42f3",
   "metadata": {},
   "outputs": [],
   "source": [
    "nuci['cena_discrete'] = (nuci['cena'] // 100) * 100 + 50\n",
    "nuci = nuci.astype(\n",
    "    {'cena_discrete': 'int64'}\n",
    ")"
   ]
  },
  {
   "cell_type": "code",
   "execution_count": 285,
   "id": "b23947a4",
   "metadata": {
    "scrolled": true
   },
   "outputs": [
    {
     "data": {
      "text/plain": [
       "Text(0.5, 1.0, 'Koliko nucov se prodaja pri določeni ceni')"
      ]
     },
     "execution_count": 285,
     "metadata": {},
     "output_type": "execute_result"
    },
    {
     "data": {
      "image/png": "[encoded data removed]",
      "text/plain": [
       "<Figure size 1000x500 with 1 Axes>"
      ]
     },
     "metadata": {},
     "output_type": "display_data"
    }
   ],
   "source": [
    "ax = nuci['cena_discrete'].value_counts().sort_index().plot.bar(\n",
    "    color='dodgerblue', alpha=0.75, linewidth=1, width=0.85\n",
    ")\n",
    "ax.set_xlabel('Cena računalnikov')\n",
    "ax.set_ylabel('Število računalnikov')\n",
    "ax.set_title('Koliko nucov se prodaja pri določeni ceni')"
   ]
  },
  {
   "cell_type": "markdown",
   "id": "f4ca9914",
   "metadata": {},
   "source": [
    "### 1.2 Nadaljnja analiza masovno prodajanih računalnikov"
   ]
  },
  {
   "cell_type": "markdown",
   "id": "c0a4a14b",
   "metadata": {},
   "source": [
    "Največ računalnikov ima ceno med 300 in 400€. Najverjetneje je to zato, ker je trg za računalnike v takem cenovnem razredu največji. Podrobneje si poglejmo le-te:"
   ]
  },
  {
   "cell_type": "code",
   "execution_count": 286,
   "id": "9f050181",
   "metadata": {
    "scrolled": true
   },
   "outputs": [
    {
     "data": {
      "text/html": [
       "<div>\n",
       "<style scoped>\n",
       "    .dataframe tbody tr th:only-of-type {\n",
       "        vertical-align: middle;\n",
       "    }\n",
       "\n",
       "    .dataframe tbody tr th {\n",
       "        vertical-align: top;\n",
       "    }\n",
       "\n",
       "    .dataframe thead th {\n",
       "        text-align: right;\n",
       "    }\n",
       "</style>\n",
       "<table border=\"1\" class=\"dataframe\">\n",
       "  <thead>\n",
       "    <tr style=\"text-align: right;\">\n",
       "      <th></th>\n",
       "      <th>opis</th>\n",
       "      <th>cena</th>\n",
       "      <th>id</th>\n",
       "      <th>vrednost_kupona</th>\n",
       "      <th>ocena</th>\n",
       "      <th>stevilo_ocen</th>\n",
       "      <th>cas_dostave</th>\n",
       "      <th>amazons_choice</th>\n",
       "      <th>produkt_sponzoriran</th>\n",
       "      <th>proizvajalec_id</th>\n",
       "      <th>OS_id</th>\n",
       "      <th>ssd_id</th>\n",
       "      <th>ram_id</th>\n",
       "      <th>cena_discrete</th>\n",
       "    </tr>\n",
       "  </thead>\n",
       "  <tbody>\n",
       "    <tr>\n",
       "      <th>355</th>\n",
       "      <td>CHUWI Mini PC LarkBox X, AMD Ryzen™7 3750H Pro...</td>\n",
       "      <td>399.0</td>\n",
       "      <td>B00OKAHH8O</td>\n",
       "      <td>30.0</td>\n",
       "      <td>4.3</td>\n",
       "      <td>254</td>\n",
       "      <td>8</td>\n",
       "      <td>False</td>\n",
       "      <td>False</td>\n",
       "      <td>5</td>\n",
       "      <td>1</td>\n",
       "      <td>11</td>\n",
       "      <td>3</td>\n",
       "      <td>350</td>\n",
       "    </tr>\n",
       "    <tr>\n",
       "      <th>215</th>\n",
       "      <td>CHUWI Mini PC LarkBox X, AMD Ryzen™7 3750H Pro...</td>\n",
       "      <td>399.0</td>\n",
       "      <td>B00OKAHH8O</td>\n",
       "      <td>30.0</td>\n",
       "      <td>4.3</td>\n",
       "      <td>254</td>\n",
       "      <td>8</td>\n",
       "      <td>False</td>\n",
       "      <td>True</td>\n",
       "      <td>5</td>\n",
       "      <td>1</td>\n",
       "      <td>11</td>\n",
       "      <td>3</td>\n",
       "      <td>350</td>\n",
       "    </tr>\n",
       "    <tr>\n",
       "      <th>369</th>\n",
       "      <td>CHUWI Mini PC LarkBox X, AMD Ryzen™7 3750H Pro...</td>\n",
       "      <td>399.0</td>\n",
       "      <td>B00OKAHH8O</td>\n",
       "      <td>30.0</td>\n",
       "      <td>4.3</td>\n",
       "      <td>254</td>\n",
       "      <td>8</td>\n",
       "      <td>False</td>\n",
       "      <td>True</td>\n",
       "      <td>5</td>\n",
       "      <td>1</td>\n",
       "      <td>11</td>\n",
       "      <td>3</td>\n",
       "      <td>350</td>\n",
       "    </tr>\n",
       "  </tbody>\n",
       "</table>\n",
       "</div>"
      ],
      "text/plain": [
       "                                                  opis   cena          id  \\\n",
       "355  CHUWI Mini PC LarkBox X, AMD Ryzen™7 3750H Pro...  399.0  B00OKAHH8O   \n",
       "215  CHUWI Mini PC LarkBox X, AMD Ryzen™7 3750H Pro...  399.0  B00OKAHH8O   \n",
       "369  CHUWI Mini PC LarkBox X, AMD Ryzen™7 3750H Pro...  399.0  B00OKAHH8O   \n",
       "\n",
       "     vrednost_kupona  ocena  stevilo_ocen  cas_dostave  amazons_choice  \\\n",
       "355             30.0    4.3           254            8           False   \n",
       "215             30.0    4.3           254            8           False   \n",
       "369             30.0    4.3           254            8           False   \n",
       "\n",
       "     produkt_sponzoriran  proizvajalec_id  OS_id  ssd_id  ram_id  \\\n",
       "355                False                5      1      11       3   \n",
       "215                 True                5      1      11       3   \n",
       "369                 True                5      1      11       3   \n",
       "\n",
       "     cena_discrete  \n",
       "355            350  \n",
       "215            350  \n",
       "369            350  "
      ]
     },
     "execution_count": 286,
     "metadata": {},
     "output_type": "execute_result"
    }
   ],
   "source": [
    "nuci[nuci['cena_discrete'] == 350].head(3)"
   ]
  },
  {
   "cell_type": "markdown",
   "id": "037f6f9d",
   "metadata": {},
   "source": [
    "Zanima me, kako se razlikujejo povprečne ocene med temi računalniki - je eden res lahko toliko boljši od drugega? Tukaj zavržem tiste računalnike, kjer je število ocen manjše od 10, saj nam tam že en slab review porodi bistveno slabšo povprečno oceno"
   ]
  },
  {
   "cell_type": "code",
   "execution_count": 287,
   "id": "c4aa52d5",
   "metadata": {
    "scrolled": false
   },
   "outputs": [
    {
     "data": {
      "text/plain": [
       "Text(0.5, 1.0, 'Masovno prodajani računalniki (300-400€), urejeni po oceni')"
      ]
     },
     "execution_count": 287,
     "metadata": {},
     "output_type": "execute_result"
    },
    {
     "data": {
      "image/png": "[encoded data removed]",
      "text/plain": [
       "<Figure size 1000x500 with 1 Axes>"
      ]
     },
     "metadata": {},
     "output_type": "display_data"
    }
   ],
   "source": [
    "ax = nuci[\n",
    "    (nuci['cena_discrete'] == 350) & (nuci['stevilo_ocen'] >= 10)\n",
    "].plot.box(column=['ocena'])\n",
    "ax.set_ylabel('Ocena računalnikov')\n",
    "ax.set_title('Masovno prodajani računalniki (300-400€), urejeni po oceni')"
   ]
  },
  {
   "cell_type": "markdown",
   "id": "92f7d15d",
   "metadata": {},
   "source": [
    "Povprečna ocena računalnikov v takem cenovnem razredu je $4.4$ z vrednostima $4.0$ in $4.8$ kot naši anomaliji. Pokazano drugače, tako izgledajo naši rezultati:"
   ]
  },
  {
   "cell_type": "code",
   "execution_count": 288,
   "id": "08e309cf",
   "metadata": {
    "scrolled": false
   },
   "outputs": [
    {
     "data": {
      "text/plain": [
       "Text(0.5, 1.0, 'Porazdelitev masovno prodajanih računalnikov (300-400€) po oceni')"
      ]
     },
     "execution_count": 288,
     "metadata": {},
     "output_type": "execute_result"
    },
    {
     "data": {
      "image/png": "[encoded data removed]",
      "text/plain": [
       "<Figure size 1000x500 with 1 Axes>"
      ]
     },
     "metadata": {},
     "output_type": "display_data"
    }
   ],
   "source": [
    "ax = pd.DataFrame(\n",
    "    nuci[\n",
    "    (nuci['cena_discrete'] == 350) & (nuci['stevilo_ocen'] >= 10)\n",
    "][\n",
    "    'ocena'\n",
    "].value_counts(\n",
    ").sort_values(\n",
    "    ascending=False\n",
    ").sort_index()\n",
    ").plot.bar()\n",
    "\n",
    "ax.set_xlabel('Ocena računalnikov')\n",
    "ax.set_ylabel('Število računalnikov pri določeni oceni')\n",
    "ax.set_title('Porazdelitev masovno prodajanih računalnikov (300-400€) po oceni')"
   ]
  },
  {
   "cell_type": "markdown",
   "id": "9a1a9692",
   "metadata": {},
   "source": [
    "### 1.3 Anomalije v ocenah"
   ]
  },
  {
   "cell_type": "markdown",
   "id": "0c109333",
   "metadata": {},
   "source": [
    "Poglejmo si ta dva ekstrema ocen:"
   ]
  },
  {
   "cell_type": "code",
   "execution_count": 289,
   "id": "1f64d3b3",
   "metadata": {},
   "outputs": [
    {
     "data": {
      "text/html": [
       "<div>\n",
       "<style scoped>\n",
       "    .dataframe tbody tr th:only-of-type {\n",
       "        vertical-align: middle;\n",
       "    }\n",
       "\n",
       "    .dataframe tbody tr th {\n",
       "        vertical-align: top;\n",
       "    }\n",
       "\n",
       "    .dataframe thead th {\n",
       "        text-align: right;\n",
       "    }\n",
       "</style>\n",
       "<table border=\"1\" class=\"dataframe\">\n",
       "  <thead>\n",
       "    <tr style=\"text-align: right;\">\n",
       "      <th></th>\n",
       "      <th>opis</th>\n",
       "      <th>cena</th>\n",
       "      <th>id</th>\n",
       "      <th>vrednost_kupona</th>\n",
       "      <th>ocena</th>\n",
       "      <th>stevilo_ocen</th>\n",
       "      <th>cas_dostave</th>\n",
       "      <th>amazons_choice</th>\n",
       "      <th>produkt_sponzoriran</th>\n",
       "      <th>proizvajalec_id</th>\n",
       "      <th>OS_id</th>\n",
       "      <th>ssd_id</th>\n",
       "      <th>ram_id</th>\n",
       "      <th>cena_discrete</th>\n",
       "    </tr>\n",
       "  </thead>\n",
       "  <tbody>\n",
       "    <tr>\n",
       "      <th>252</th>\n",
       "      <td>Lenovo ThinkCentre M900 Tiny Mini PC | Intel C...</td>\n",
       "      <td>343.0</td>\n",
       "      <td>B09BCPC6G2</td>\n",
       "      <td>0.0</td>\n",
       "      <td>4.0</td>\n",
       "      <td>45</td>\n",
       "      <td>27</td>\n",
       "      <td>False</td>\n",
       "      <td>False</td>\n",
       "      <td>1</td>\n",
       "      <td>1</td>\n",
       "      <td>18</td>\n",
       "      <td>3</td>\n",
       "      <td>350</td>\n",
       "    </tr>\n",
       "    <tr>\n",
       "      <th>349</th>\n",
       "      <td>Lenovo ThinkCentre M900 Tiny Mini PC | Intel C...</td>\n",
       "      <td>343.0</td>\n",
       "      <td>B09BCPC6G2</td>\n",
       "      <td>0.0</td>\n",
       "      <td>4.0</td>\n",
       "      <td>45</td>\n",
       "      <td>27</td>\n",
       "      <td>False</td>\n",
       "      <td>False</td>\n",
       "      <td>1</td>\n",
       "      <td>1</td>\n",
       "      <td>18</td>\n",
       "      <td>3</td>\n",
       "      <td>350</td>\n",
       "    </tr>\n",
       "    <tr>\n",
       "      <th>311</th>\n",
       "      <td>STRHIGP Firewall Mini PC OPNsense Celeron J412...</td>\n",
       "      <td>353.0</td>\n",
       "      <td>B09QM69CJ8</td>\n",
       "      <td>0.0</td>\n",
       "      <td>4.8</td>\n",
       "      <td>13</td>\n",
       "      <td>8</td>\n",
       "      <td>False</td>\n",
       "      <td>False</td>\n",
       "      <td>16</td>\n",
       "      <td>5</td>\n",
       "      <td>8</td>\n",
       "      <td>8</td>\n",
       "      <td>350</td>\n",
       "    </tr>\n",
       "    <tr>\n",
       "      <th>301</th>\n",
       "      <td>HSIPC Jasper Lake Celeron N5105 Quad Core Fire...</td>\n",
       "      <td>325.0</td>\n",
       "      <td>B0B1LPR3NQ</td>\n",
       "      <td>0.0</td>\n",
       "      <td>4.8</td>\n",
       "      <td>29</td>\n",
       "      <td>8</td>\n",
       "      <td>False</td>\n",
       "      <td>False</td>\n",
       "      <td>22</td>\n",
       "      <td>5</td>\n",
       "      <td>18</td>\n",
       "      <td>3</td>\n",
       "      <td>350</td>\n",
       "    </tr>\n",
       "  </tbody>\n",
       "</table>\n",
       "</div>"
      ],
      "text/plain": [
       "                                                  opis   cena          id  \\\n",
       "252  Lenovo ThinkCentre M900 Tiny Mini PC | Intel C...  343.0  B09BCPC6G2   \n",
       "349  Lenovo ThinkCentre M900 Tiny Mini PC | Intel C...  343.0  B09BCPC6G2   \n",
       "311  STRHIGP Firewall Mini PC OPNsense Celeron J412...  353.0  B09QM69CJ8   \n",
       "301  HSIPC Jasper Lake Celeron N5105 Quad Core Fire...  325.0  B0B1LPR3NQ   \n",
       "\n",
       "     vrednost_kupona  ocena  stevilo_ocen  cas_dostave  amazons_choice  \\\n",
       "252              0.0    4.0            45           27           False   \n",
       "349              0.0    4.0            45           27           False   \n",
       "311              0.0    4.8            13            8           False   \n",
       "301              0.0    4.8            29            8           False   \n",
       "\n",
       "     produkt_sponzoriran  proizvajalec_id  OS_id  ssd_id  ram_id  \\\n",
       "252                False                1      1      18       3   \n",
       "349                False                1      1      18       3   \n",
       "311                False               16      5       8       8   \n",
       "301                False               22      5      18       3   \n",
       "\n",
       "     cena_discrete  \n",
       "252            350  \n",
       "349            350  \n",
       "311            350  \n",
       "301            350  "
      ]
     },
     "execution_count": 289,
     "metadata": {},
     "output_type": "execute_result"
    }
   ],
   "source": [
    "nuci[\n",
    "    (nuci['cena_discrete'] == 350) & (nuci['stevilo_ocen'] >= 10) & ((nuci['ocena'] == 4) | (nuci['ocena'] == 4.8))\n",
    "].sort_values('ocena')"
   ]
  },
  {
   "cell_type": "markdown",
   "id": "87c064b8",
   "metadata": {},
   "source": [
    "Hmm, izgleda, da sta NUCa s povprečno oceno $4.0$ v bistvu ista računalnika, ki sta se na Amazonu pojavila dvakrat."
   ]
  },
  {
   "cell_type": "code",
   "execution_count": 290,
   "id": "6ac3dc3c",
   "metadata": {},
   "outputs": [],
   "source": [
    "def zdruzi_vse_podatke_v_eno_tabelo(df):\n",
    "    \"\"\"Levo zdruzi (pofiltrirano) tabelo nuci z tabelami operacijski_sistem, proizvajalci, ram, ssd ter vrne zdruzeno tabelo\"\"\"\n",
    "    return df.merge(\n",
    "        ssd, on='ssd_id', how='left'\n",
    "        ).merge(\n",
    "            ram, on='ram_id', how='left'\n",
    "        ).merge(\n",
    "            proizvajalci, on='proizvajalec_id', how='left'\n",
    "        ).merge(\n",
    "        operacijski_sistemi, left_on='OS_id', right_on='operacijski_sistem_id', how='left'\n",
    "    )"
   ]
  },
  {
   "cell_type": "code",
   "execution_count": 291,
   "id": "10f639c5",
   "metadata": {},
   "outputs": [],
   "source": [
    "anomalije_zdruzene = zdruzi_vse_podatke_v_eno_tabelo(\n",
    "    nuci[\n",
    "        (nuci['cena_discrete'] == 350) & \n",
    "        (nuci['stevilo_ocen'] >= 10) & \n",
    "        ((nuci['ocena'] == 4) | (nuci['ocena'] == 4.8))\n",
    "    ].sort_values('ocena')\n",
    ").drop_duplicates()"
   ]
  },
  {
   "cell_type": "markdown",
   "id": "42dfa279",
   "metadata": {},
   "source": [
    "Vzamem en NUC z oceno $4.0$ in enega z $4.8$ ter primerjam njune glavne specifikacije"
   ]
  },
  {
   "cell_type": "code",
   "execution_count": 292,
   "id": "f24b08d1",
   "metadata": {
    "scrolled": false
   },
   "outputs": [],
   "source": [
    "anomalije_zdruzene = anomalije_zdruzene[\n",
    "    (anomalije_zdruzene['id'] == 'B09BCPC6G2') |\n",
    "    (anomalije_zdruzene['id'] == 'B0B1LPR3NQ')\n",
    "][\n",
    "    ['id', 'opis', 'vrednost_kupona', 'ocena', \n",
    "     'stevilo_ocen', 'cas_dostave', 'ssd', 'ram', \n",
    "     'proizvajalec', 'operacijski_sistem']\n",
    "]"
   ]
  },
  {
   "cell_type": "code",
   "execution_count": 293,
   "id": "a6d7e922",
   "metadata": {},
   "outputs": [
    {
     "data": {
      "text/html": [
       "<div>\n",
       "<style scoped>\n",
       "    .dataframe tbody tr th:only-of-type {\n",
       "        vertical-align: middle;\n",
       "    }\n",
       "\n",
       "    .dataframe tbody tr th {\n",
       "        vertical-align: top;\n",
       "    }\n",
       "\n",
       "    .dataframe thead th {\n",
       "        text-align: right;\n",
       "    }\n",
       "</style>\n",
       "<table border=\"1\" class=\"dataframe\">\n",
       "  <thead>\n",
       "    <tr style=\"text-align: right;\">\n",
       "      <th></th>\n",
       "      <th>id</th>\n",
       "      <th>opis</th>\n",
       "      <th>vrednost_kupona</th>\n",
       "      <th>ocena</th>\n",
       "      <th>stevilo_ocen</th>\n",
       "      <th>cas_dostave</th>\n",
       "      <th>ssd</th>\n",
       "      <th>ram</th>\n",
       "      <th>proizvajalec</th>\n",
       "      <th>operacijski_sistem</th>\n",
       "    </tr>\n",
       "  </thead>\n",
       "  <tbody>\n",
       "    <tr>\n",
       "      <th>0</th>\n",
       "      <td>B09BCPC6G2</td>\n",
       "      <td>Lenovo ThinkCentre M900 Tiny Mini PC | Intel C...</td>\n",
       "      <td>0.0</td>\n",
       "      <td>4.0</td>\n",
       "      <td>45</td>\n",
       "      <td>27</td>\n",
       "      <td>unknown</td>\n",
       "      <td>8</td>\n",
       "      <td>Intel</td>\n",
       "      <td>Windows</td>\n",
       "    </tr>\n",
       "    <tr>\n",
       "      <th>3</th>\n",
       "      <td>B0B1LPR3NQ</td>\n",
       "      <td>HSIPC Jasper Lake Celeron N5105 Quad Core Fire...</td>\n",
       "      <td>0.0</td>\n",
       "      <td>4.8</td>\n",
       "      <td>29</td>\n",
       "      <td>8</td>\n",
       "      <td>unknown</td>\n",
       "      <td>8</td>\n",
       "      <td>unknown</td>\n",
       "      <td>unknown</td>\n",
       "    </tr>\n",
       "  </tbody>\n",
       "</table>\n",
       "</div>"
      ],
      "text/plain": [
       "           id                                               opis  \\\n",
       "0  B09BCPC6G2  Lenovo ThinkCentre M900 Tiny Mini PC | Intel C...   \n",
       "3  B0B1LPR3NQ  HSIPC Jasper Lake Celeron N5105 Quad Core Fire...   \n",
       "\n",
       "   vrednost_kupona  ocena  stevilo_ocen  cas_dostave      ssd ram  \\\n",
       "0              0.0    4.0            45           27  unknown   8   \n",
       "3              0.0    4.8            29            8  unknown   8   \n",
       "\n",
       "  proizvajalec operacijski_sistem  \n",
       "0        Intel            Windows  \n",
       "3      unknown            unknown  "
      ]
     },
     "execution_count": 293,
     "metadata": {},
     "output_type": "execute_result"
    }
   ],
   "source": [
    "anomalije_zdruzene"
   ]
  },
  {
   "cell_type": "markdown",
   "id": "f15a80c6",
   "metadata": {},
   "source": [
    "O računalniku z višjo oceno izvemo bolj malo stvari. Vseeno je glavna razlika videti v času dostave računalnikov."
   ]
  },
  {
   "cell_type": "markdown",
   "id": "bc4500e1",
   "metadata": {},
   "source": [
    "### 1.4 Analiza časa dostave računalnikov"
   ]
  },
  {
   "cell_type": "markdown",
   "id": "dbfb95b7",
   "metadata": {},
   "source": [
    "Poglejmo si več o času dostave računalnikov:"
   ]
  },
  {
   "cell_type": "code",
   "execution_count": 294,
   "id": "2957cc82",
   "metadata": {},
   "outputs": [
    {
     "data": {
      "text/plain": [
       "Text(0.5, 1.0, 'Porazdelitev časa dostave računalnikov')"
      ]
     },
     "execution_count": 294,
     "metadata": {},
     "output_type": "execute_result"
    },
    {
     "data": {
      "image/png": "[encoded data removed]",
      "text/plain": [
       "<Figure size 1000x500 with 1 Axes>"
      ]
     },
     "metadata": {},
     "output_type": "display_data"
    }
   ],
   "source": [
    "ax = nuci[nuci['cas_dostave'] != -1].boxplot(\n",
    "    column=['cas_dostave'],\n",
    "    grid=True\n",
    ")\n",
    "\n",
    "ax.set_ylabel('Čas dostave računalnikov')\n",
    "ax.set_title('Porazdelitev časa dostave računalnikov')"
   ]
  },
  {
   "cell_type": "markdown",
   "id": "e90965f3",
   "metadata": {},
   "source": [
    "Večino računalnikov se dostavi v desetih dneh, opazimo pa, da so redki primeri, ki naše podatke o povprečni dostavi potegnejo strmo navzgor."
   ]
  },
  {
   "cell_type": "markdown",
   "id": "5886d687",
   "metadata": {},
   "source": [
    "Prej smo videli, da je bila glavna razlika med računalnikoma z visoko in nizko oceno čas dostave računalnikov. Zanima me, kako sta povezana čas dostave in povprečna ocena računalnikov v splošnem."
   ]
  },
  {
   "cell_type": "code",
   "execution_count": 295,
   "id": "4cd1d3b8",
   "metadata": {
    "scrolled": true
   },
   "outputs": [
    {
     "data": {
      "text/html": [
       "<div>\n",
       "<style scoped>\n",
       "    .dataframe tbody tr th:only-of-type {\n",
       "        vertical-align: middle;\n",
       "    }\n",
       "\n",
       "    .dataframe tbody tr th {\n",
       "        vertical-align: top;\n",
       "    }\n",
       "\n",
       "    .dataframe thead th {\n",
       "        text-align: right;\n",
       "    }\n",
       "</style>\n",
       "<table border=\"1\" class=\"dataframe\">\n",
       "  <thead>\n",
       "    <tr style=\"text-align: right;\">\n",
       "      <th></th>\n",
       "      <th>opis</th>\n",
       "      <th>cena</th>\n",
       "      <th>id</th>\n",
       "      <th>vrednost_kupona</th>\n",
       "      <th>ocena</th>\n",
       "      <th>stevilo_ocen</th>\n",
       "      <th>cas_dostave</th>\n",
       "      <th>amazons_choice</th>\n",
       "      <th>produkt_sponzoriran</th>\n",
       "      <th>proizvajalec_id</th>\n",
       "      <th>OS_id</th>\n",
       "      <th>ssd_id</th>\n",
       "      <th>ram_id</th>\n",
       "      <th>cena_discrete</th>\n",
       "    </tr>\n",
       "  </thead>\n",
       "  <tbody>\n",
       "    <tr>\n",
       "      <th>123</th>\n",
       "      <td>Corsair ONE i300 Compact Gaming PC (Intel Core...</td>\n",
       "      <td>4099.99</td>\n",
       "      <td>B09QMG89VL</td>\n",
       "      <td>0.0</td>\n",
       "      <td>4.2</td>\n",
       "      <td>3</td>\n",
       "      <td>9</td>\n",
       "      <td>False</td>\n",
       "      <td>False</td>\n",
       "      <td>1</td>\n",
       "      <td>1</td>\n",
       "      <td>18</td>\n",
       "      <td>12</td>\n",
       "      <td>4050</td>\n",
       "    </tr>\n",
       "    <tr>\n",
       "      <th>249</th>\n",
       "      <td>Corsair ONE i300 Compact Gaming PC (Intel Core...</td>\n",
       "      <td>4099.99</td>\n",
       "      <td>B09QMG89VL</td>\n",
       "      <td>0.0</td>\n",
       "      <td>4.2</td>\n",
       "      <td>3</td>\n",
       "      <td>9</td>\n",
       "      <td>False</td>\n",
       "      <td>False</td>\n",
       "      <td>1</td>\n",
       "      <td>1</td>\n",
       "      <td>18</td>\n",
       "      <td>12</td>\n",
       "      <td>4050</td>\n",
       "    </tr>\n",
       "    <tr>\n",
       "      <th>326</th>\n",
       "      <td>Intel NUC 9 Pro Kit with 9th Generation Intel ...</td>\n",
       "      <td>2013.71</td>\n",
       "      <td>B086LFB22V</td>\n",
       "      <td>0.0</td>\n",
       "      <td>5.0</td>\n",
       "      <td>7</td>\n",
       "      <td>-1</td>\n",
       "      <td>False</td>\n",
       "      <td>False</td>\n",
       "      <td>1</td>\n",
       "      <td>5</td>\n",
       "      <td>18</td>\n",
       "      <td>12</td>\n",
       "      <td>2050</td>\n",
       "    </tr>\n",
       "    <tr>\n",
       "      <th>231</th>\n",
       "      <td>Intel NUC BKNUC9VXQNX2 PC / Workstation Barebo...</td>\n",
       "      <td>1829.69</td>\n",
       "      <td>B084K1SV45</td>\n",
       "      <td>0.0</td>\n",
       "      <td>4.2</td>\n",
       "      <td>5</td>\n",
       "      <td>15</td>\n",
       "      <td>False</td>\n",
       "      <td>False</td>\n",
       "      <td>1</td>\n",
       "      <td>4</td>\n",
       "      <td>18</td>\n",
       "      <td>12</td>\n",
       "      <td>1850</td>\n",
       "    </tr>\n",
       "    <tr>\n",
       "      <th>31</th>\n",
       "      <td>Intel NUC 11, Intel Core i7-1165G7, 2.8-4.7GHz...</td>\n",
       "      <td>1699.99</td>\n",
       "      <td>B09KR9QQCR</td>\n",
       "      <td>0.0</td>\n",
       "      <td>4.5</td>\n",
       "      <td>12</td>\n",
       "      <td>21</td>\n",
       "      <td>False</td>\n",
       "      <td>False</td>\n",
       "      <td>1</td>\n",
       "      <td>5</td>\n",
       "      <td>18</td>\n",
       "      <td>12</td>\n",
       "      <td>1650</td>\n",
       "    </tr>\n",
       "    <tr>\n",
       "      <th>...</th>\n",
       "      <td>...</td>\n",
       "      <td>...</td>\n",
       "      <td>...</td>\n",
       "      <td>...</td>\n",
       "      <td>...</td>\n",
       "      <td>...</td>\n",
       "      <td>...</td>\n",
       "      <td>...</td>\n",
       "      <td>...</td>\n",
       "      <td>...</td>\n",
       "      <td>...</td>\n",
       "      <td>...</td>\n",
       "      <td>...</td>\n",
       "      <td>...</td>\n",
       "    </tr>\n",
       "    <tr>\n",
       "      <th>142</th>\n",
       "      <td>Gigabyte GB-BACE-3000 (rev. 1.0) BGA 1170 1.04...</td>\n",
       "      <td>69.99</td>\n",
       "      <td>B01BLVFQF0</td>\n",
       "      <td>0.0</td>\n",
       "      <td>3.1</td>\n",
       "      <td>15</td>\n",
       "      <td>13</td>\n",
       "      <td>False</td>\n",
       "      <td>False</td>\n",
       "      <td>1</td>\n",
       "      <td>4</td>\n",
       "      <td>18</td>\n",
       "      <td>12</td>\n",
       "      <td>50</td>\n",
       "    </tr>\n",
       "    <tr>\n",
       "      <th>393</th>\n",
       "      <td>Landalanya Replacement CPU Fan for Intel NUC N...</td>\n",
       "      <td>39.66</td>\n",
       "      <td>B09C4F6J76</td>\n",
       "      <td>0.0</td>\n",
       "      <td>4.8</td>\n",
       "      <td>6</td>\n",
       "      <td>-1</td>\n",
       "      <td>False</td>\n",
       "      <td>False</td>\n",
       "      <td>1</td>\n",
       "      <td>5</td>\n",
       "      <td>18</td>\n",
       "      <td>12</td>\n",
       "      <td>50</td>\n",
       "    </tr>\n",
       "    <tr>\n",
       "      <th>377</th>\n",
       "      <td>SilverStone SST-PT14-H1T1; Petit Intel NUC, Bo...</td>\n",
       "      <td>29.83</td>\n",
       "      <td>B00GSAOEQW</td>\n",
       "      <td>0.0</td>\n",
       "      <td>4.7</td>\n",
       "      <td>63</td>\n",
       "      <td>14</td>\n",
       "      <td>False</td>\n",
       "      <td>False</td>\n",
       "      <td>1</td>\n",
       "      <td>5</td>\n",
       "      <td>18</td>\n",
       "      <td>12</td>\n",
       "      <td>50</td>\n",
       "    </tr>\n",
       "    <tr>\n",
       "      <th>24</th>\n",
       "      <td>HumanCentric Intel NUC VESA Mount for NUC Mini...</td>\n",
       "      <td>12.99</td>\n",
       "      <td>B07KB4YWQS</td>\n",
       "      <td>0.0</td>\n",
       "      <td>4.6</td>\n",
       "      <td>584</td>\n",
       "      <td>8</td>\n",
       "      <td>False</td>\n",
       "      <td>False</td>\n",
       "      <td>1</td>\n",
       "      <td>5</td>\n",
       "      <td>18</td>\n",
       "      <td>12</td>\n",
       "      <td>50</td>\n",
       "    </tr>\n",
       "    <tr>\n",
       "      <th>64</th>\n",
       "      <td>HumanCentric Intel NUC VESA Mount for NUC Mini...</td>\n",
       "      <td>12.99</td>\n",
       "      <td>B07KB4YWQS</td>\n",
       "      <td>0.0</td>\n",
       "      <td>4.6</td>\n",
       "      <td>584</td>\n",
       "      <td>8</td>\n",
       "      <td>False</td>\n",
       "      <td>False</td>\n",
       "      <td>1</td>\n",
       "      <td>5</td>\n",
       "      <td>18</td>\n",
       "      <td>12</td>\n",
       "      <td>50</td>\n",
       "    </tr>\n",
       "  </tbody>\n",
       "</table>\n",
       "<p>309 rows × 14 columns</p>\n",
       "</div>"
      ],
      "text/plain": [
       "                                                  opis     cena          id  \\\n",
       "123  Corsair ONE i300 Compact Gaming PC (Intel Core...  4099.99  B09QMG89VL   \n",
       "249  Corsair ONE i300 Compact Gaming PC (Intel Core...  4099.99  B09QMG89VL   \n",
       "326  Intel NUC 9 Pro Kit with 9th Generation Intel ...  2013.71  B086LFB22V   \n",
       "231  Intel NUC BKNUC9VXQNX2 PC / Workstation Barebo...  1829.69  B084K1SV45   \n",
       "31   Intel NUC 11, Intel Core i7-1165G7, 2.8-4.7GHz...  1699.99  B09KR9QQCR   \n",
       "..                                                 ...      ...         ...   \n",
       "142  Gigabyte GB-BACE-3000 (rev. 1.0) BGA 1170 1.04...    69.99  B01BLVFQF0   \n",
       "393  Landalanya Replacement CPU Fan for Intel NUC N...    39.66  B09C4F6J76   \n",
       "377  SilverStone SST-PT14-H1T1; Petit Intel NUC, Bo...    29.83  B00GSAOEQW   \n",
       "24   HumanCentric Intel NUC VESA Mount for NUC Mini...    12.99  B07KB4YWQS   \n",
       "64   HumanCentric Intel NUC VESA Mount for NUC Mini...    12.99  B07KB4YWQS   \n",
       "\n",
       "     vrednost_kupona  ocena  stevilo_ocen  cas_dostave  amazons_choice  \\\n",
       "123              0.0    4.2             3            9           False   \n",
       "249              0.0    4.2             3            9           False   \n",
       "326              0.0    5.0             7           -1           False   \n",
       "231              0.0    4.2             5           15           False   \n",
       "31               0.0    4.5            12           21           False   \n",
       "..               ...    ...           ...          ...             ...   \n",
       "142              0.0    3.1            15           13           False   \n",
       "393              0.0    4.8             6           -1           False   \n",
       "377              0.0    4.7            63           14           False   \n",
       "24               0.0    4.6           584            8           False   \n",
       "64               0.0    4.6           584            8           False   \n",
       "\n",
       "     produkt_sponzoriran  proizvajalec_id  OS_id  ssd_id  ram_id  \\\n",
       "123                False                1      1      18      12   \n",
       "249                False                1      1      18      12   \n",
       "326                False                1      5      18      12   \n",
       "231                False                1      4      18      12   \n",
       "31                 False                1      5      18      12   \n",
       "..                   ...              ...    ...     ...     ...   \n",
       "142                False                1      4      18      12   \n",
       "393                False                1      5      18      12   \n",
       "377                False                1      5      18      12   \n",
       "24                 False                1      5      18      12   \n",
       "64                 False                1      5      18      12   \n",
       "\n",
       "     cena_discrete  \n",
       "123           4050  \n",
       "249           4050  \n",
       "326           2050  \n",
       "231           1850  \n",
       "31            1650  \n",
       "..             ...  \n",
       "142             50  \n",
       "393             50  \n",
       "377             50  \n",
       "24              50  \n",
       "64              50  \n",
       "\n",
       "[309 rows x 14 columns]"
      ]
     },
     "execution_count": 295,
     "metadata": {},
     "output_type": "execute_result"
    }
   ],
   "source": [
    "nuci"
   ]
  },
  {
   "cell_type": "code",
   "execution_count": 297,
   "id": "33c1be85",
   "metadata": {
    "scrolled": false
   },
   "outputs": [
    {
     "data": {
      "text/plain": [
       "Text(0.5, 1.0, 'Povezava med oceno, časom dostave in številom ocen računalnika')"
      ]
     },
     "execution_count": 297,
     "metadata": {},
     "output_type": "execute_result"
    },
    {
     "data": {
      "image/png": "[encoded data removed]",
      "text/plain": [
       "<Figure size 1000x500 with 2 Axes>"
      ]
     },
     "metadata": {},
     "output_type": "display_data"
    }
   ],
   "source": [
    "ax = nuci[\n",
    "    (nuci['cas_dostave'] != -1)\n",
    "].plot.scatter(\n",
    "    x='ocena', \n",
    "    y='cas_dostave', \n",
    "    c='stevilo_ocen', \n",
    "    colormap='tab10', \n",
    "    marker='3', \n",
    "    s=150\n",
    ")\n",
    "ax.set_xlabel('Ocena računalnika')\n",
    "ax.set_ylabel('Čas dostave računalnika')\n",
    "ax.set_title('Povezava med oceno, časom dostave in številom ocen računalnika')"
   ]
  },
  {
   "cell_type": "markdown",
   "id": "77051eda",
   "metadata": {},
   "source": [
    "Hm - zdi se, da med oceno in časom dostave ni resne povezave. Vseeno pa je iz grafa razvidno, da so tisti računalniki z nižjo oceno ocenjeni manjkrat."
   ]
  },
  {
   "cell_type": "code",
   "execution_count": 298,
   "id": "f375f381",
   "metadata": {},
   "outputs": [],
   "source": [
    "zdruzeni_nuci = zdruzi_vse_podatke_v_eno_tabelo(\n",
    "    nuci\n",
    ").drop(\n",
    "    ['operacijski_sistem_id', 'OS_id', 'ssd_id', 'ram_id', 'proizvajalec_id'], axis=1\n",
    ")"
   ]
  },
  {
   "cell_type": "code",
   "execution_count": 299,
   "id": "60882fed",
   "metadata": {
    "scrolled": true
   },
   "outputs": [
    {
     "data": {
      "text/html": [
       "<div>\n",
       "<style scoped>\n",
       "    .dataframe tbody tr th:only-of-type {\n",
       "        vertical-align: middle;\n",
       "    }\n",
       "\n",
       "    .dataframe tbody tr th {\n",
       "        vertical-align: top;\n",
       "    }\n",
       "\n",
       "    .dataframe thead th {\n",
       "        text-align: right;\n",
       "    }\n",
       "</style>\n",
       "<table border=\"1\" class=\"dataframe\">\n",
       "  <thead>\n",
       "    <tr style=\"text-align: right;\">\n",
       "      <th></th>\n",
       "      <th>opis</th>\n",
       "      <th>cena</th>\n",
       "      <th>id</th>\n",
       "      <th>vrednost_kupona</th>\n",
       "      <th>ocena</th>\n",
       "      <th>stevilo_ocen</th>\n",
       "      <th>cas_dostave</th>\n",
       "      <th>amazons_choice</th>\n",
       "      <th>produkt_sponzoriran</th>\n",
       "      <th>cena_discrete</th>\n",
       "      <th>ssd</th>\n",
       "      <th>ram</th>\n",
       "      <th>proizvajalec</th>\n",
       "      <th>operacijski_sistem</th>\n",
       "    </tr>\n",
       "  </thead>\n",
       "  <tbody>\n",
       "    <tr>\n",
       "      <th>304</th>\n",
       "      <td>Gigabyte GB-BACE-3000 (rev. 1.0) BGA 1170 1.04...</td>\n",
       "      <td>69.99</td>\n",
       "      <td>B01BLVFQF0</td>\n",
       "      <td>0.0</td>\n",
       "      <td>3.1</td>\n",
       "      <td>15</td>\n",
       "      <td>13</td>\n",
       "      <td>False</td>\n",
       "      <td>False</td>\n",
       "      <td>50</td>\n",
       "      <td>unknown</td>\n",
       "      <td>unknown</td>\n",
       "      <td>Intel</td>\n",
       "      <td>no OS</td>\n",
       "    </tr>\n",
       "    <tr>\n",
       "      <th>305</th>\n",
       "      <td>Landalanya Replacement CPU Fan for Intel NUC N...</td>\n",
       "      <td>39.66</td>\n",
       "      <td>B09C4F6J76</td>\n",
       "      <td>0.0</td>\n",
       "      <td>4.8</td>\n",
       "      <td>6</td>\n",
       "      <td>-1</td>\n",
       "      <td>False</td>\n",
       "      <td>False</td>\n",
       "      <td>50</td>\n",
       "      <td>unknown</td>\n",
       "      <td>unknown</td>\n",
       "      <td>Intel</td>\n",
       "      <td>unknown</td>\n",
       "    </tr>\n",
       "    <tr>\n",
       "      <th>306</th>\n",
       "      <td>SilverStone SST-PT14-H1T1; Petit Intel NUC, Bo...</td>\n",
       "      <td>29.83</td>\n",
       "      <td>B00GSAOEQW</td>\n",
       "      <td>0.0</td>\n",
       "      <td>4.7</td>\n",
       "      <td>63</td>\n",
       "      <td>14</td>\n",
       "      <td>False</td>\n",
       "      <td>False</td>\n",
       "      <td>50</td>\n",
       "      <td>unknown</td>\n",
       "      <td>unknown</td>\n",
       "      <td>Intel</td>\n",
       "      <td>unknown</td>\n",
       "    </tr>\n",
       "    <tr>\n",
       "      <th>307</th>\n",
       "      <td>HumanCentric Intel NUC VESA Mount for NUC Mini...</td>\n",
       "      <td>12.99</td>\n",
       "      <td>B07KB4YWQS</td>\n",
       "      <td>0.0</td>\n",
       "      <td>4.6</td>\n",
       "      <td>584</td>\n",
       "      <td>8</td>\n",
       "      <td>False</td>\n",
       "      <td>False</td>\n",
       "      <td>50</td>\n",
       "      <td>unknown</td>\n",
       "      <td>unknown</td>\n",
       "      <td>Intel</td>\n",
       "      <td>unknown</td>\n",
       "    </tr>\n",
       "    <tr>\n",
       "      <th>308</th>\n",
       "      <td>HumanCentric Intel NUC VESA Mount for NUC Mini...</td>\n",
       "      <td>12.99</td>\n",
       "      <td>B07KB4YWQS</td>\n",
       "      <td>0.0</td>\n",
       "      <td>4.6</td>\n",
       "      <td>584</td>\n",
       "      <td>8</td>\n",
       "      <td>False</td>\n",
       "      <td>False</td>\n",
       "      <td>50</td>\n",
       "      <td>unknown</td>\n",
       "      <td>unknown</td>\n",
       "      <td>Intel</td>\n",
       "      <td>unknown</td>\n",
       "    </tr>\n",
       "  </tbody>\n",
       "</table>\n",
       "</div>"
      ],
      "text/plain": [
       "                                                  opis   cena          id  \\\n",
       "304  Gigabyte GB-BACE-3000 (rev. 1.0) BGA 1170 1.04...  69.99  B01BLVFQF0   \n",
       "305  Landalanya Replacement CPU Fan for Intel NUC N...  39.66  B09C4F6J76   \n",
       "306  SilverStone SST-PT14-H1T1; Petit Intel NUC, Bo...  29.83  B00GSAOEQW   \n",
       "307  HumanCentric Intel NUC VESA Mount for NUC Mini...  12.99  B07KB4YWQS   \n",
       "308  HumanCentric Intel NUC VESA Mount for NUC Mini...  12.99  B07KB4YWQS   \n",
       "\n",
       "     vrednost_kupona  ocena  stevilo_ocen  cas_dostave  amazons_choice  \\\n",
       "304              0.0    3.1            15           13           False   \n",
       "305              0.0    4.8             6           -1           False   \n",
       "306              0.0    4.7            63           14           False   \n",
       "307              0.0    4.6           584            8           False   \n",
       "308              0.0    4.6           584            8           False   \n",
       "\n",
       "     produkt_sponzoriran  cena_discrete      ssd      ram proizvajalec  \\\n",
       "304                False             50  unknown  unknown        Intel   \n",
       "305                False             50  unknown  unknown        Intel   \n",
       "306                False             50  unknown  unknown        Intel   \n",
       "307                False             50  unknown  unknown        Intel   \n",
       "308                False             50  unknown  unknown        Intel   \n",
       "\n",
       "    operacijski_sistem  \n",
       "304              no OS  \n",
       "305            unknown  \n",
       "306            unknown  \n",
       "307            unknown  \n",
       "308            unknown  "
      ]
     },
     "execution_count": 299,
     "metadata": {},
     "output_type": "execute_result"
    }
   ],
   "source": [
    "zdruzeni_nuci.tail()"
   ]
  },
  {
   "cell_type": "markdown",
   "id": "1add6527",
   "metadata": {},
   "source": [
    "### 1.5 Analiza delovnega spomina (RAM) računalnika"
   ]
  },
  {
   "cell_type": "code",
   "execution_count": 300,
   "id": "99d9cc7b",
   "metadata": {},
   "outputs": [
    {
     "data": {
      "text/plain": [
       "Text(0.5, 1.0, 'Porazdelitev računalnikov glede na RAM')"
      ]
     },
     "execution_count": 300,
     "metadata": {},
     "output_type": "execute_result"
    },
    {
     "data": {
      "image/png": "[encoded data removed]",
      "text/plain": [
       "<Figure size 1000x500 with 1 Axes>"
      ]
     },
     "metadata": {},
     "output_type": "display_data"
    }
   ],
   "source": [
    "ax = zdruzeni_nuci[zdruzeni_nuci['ram'] != 'unknown'].astype(\n",
    "    {'ram': 'int64'}\n",
    ")['ram'].value_counts().sort_index().plot.bar(\n",
    "    width=0.95,\n",
    "    align='center',\n",
    "    color='grey',\n",
    ")\n",
    "\n",
    "ax.set_xlabel('Delovni spomin računalnika (RAM)')\n",
    "ax.set_ylabel('Število')\n",
    "ax.set_title('Porazdelitev računalnikov glede na RAM')"
   ]
  },
  {
   "cell_type": "markdown",
   "id": "9c7420b6",
   "metadata": {},
   "source": [
    "### 1.6 Analiza SSD-ja računalnika"
   ]
  },
  {
   "cell_type": "code",
   "execution_count": 301,
   "id": "ff75bc1b",
   "metadata": {
    "scrolled": true
   },
   "outputs": [
    {
     "data": {
      "text/plain": [
       "Text(0.5, 1.0, 'Porazdelitev računalnikov glede na SSD')"
      ]
     },
     "execution_count": 301,
     "metadata": {},
     "output_type": "execute_result"
    },
    {
     "data": {
      "image/png": "[encoded data removed]",
      "text/plain": [
       "<Figure size 1000x500 with 1 Axes>"
      ]
     },
     "metadata": {},
     "output_type": "display_data"
    }
   ],
   "source": [
    "ax = zdruzeni_nuci[zdruzeni_nuci['ssd'] != 'unknown'].astype(\n",
    "    {'ssd': 'int64'}\n",
    ")['ssd'].value_counts().sort_index().plot.bar(\n",
    "    width=0.6,\n",
    "    align='center',\n",
    "    color='green',\n",
    ")\n",
    "\n",
    "ax.set_xlabel('SSD računalnika')\n",
    "ax.set_ylabel('Število')\n",
    "ax.set_title('Porazdelitev računalnikov glede na SSD')"
   ]
  },
  {
   "cell_type": "markdown",
   "id": "0bd665df",
   "metadata": {},
   "source": [
    "### 1.7 Povezava med RAM-om in SSD-jem"
   ]
  },
  {
   "cell_type": "markdown",
   "id": "ad39cc79",
   "metadata": {},
   "source": [
    "Upoštevati je treba, kapacitete RAM-a in SSD-ja običajno nastopajo v potencah števila 2. Če v zgornjih dveh grafih zavržemo števila, ki niso potence števila 2, dobimo lepe, približno normalno porazdeljene podatke o teh dveh kapacitetah računalnikov. Največ je računalnikov, ki imajo 16 GB RAMa in 256 GB SSD-ja. Številke so smiselne, saj je dandanes to standardna kapaciteta računalnikov."
   ]
  },
  {
   "cell_type": "code",
   "execution_count": 302,
   "id": "62e58bc5",
   "metadata": {
    "scrolled": false
   },
   "outputs": [
    {
     "data": {
      "text/plain": [
       "Text(0.5, 1.0, 'Točkovna povezava med delovnim spominom in pomnilnikom računalnika ')"
      ]
     },
     "execution_count": 302,
     "metadata": {},
     "output_type": "execute_result"
    },
    {
     "data": {
      "image/png": "[encoded data removed]",
      "text/plain": [
       "<Figure size 1000x500 with 2 Axes>"
      ]
     },
     "metadata": {},
     "output_type": "display_data"
    }
   ],
   "source": [
    "ax = zdruzeni_nuci[\n",
    "    (zdruzeni_nuci['ssd'] != 'unknown') &\n",
    "    (zdruzeni_nuci['ram'] != 'unknown')\n",
    "].astype(\n",
    "    {'ssd': 'int64', 'ram': 'int64'}\n",
    ").plot.scatter(\n",
    "    x='ssd', \n",
    "    y='ram', \n",
    "    s=100, \n",
    "    marker='X',\n",
    "    c='cena'\n",
    ")\n",
    "ax.grid(alpha=0.7)\n",
    "ax.set_xlabel('SSD')\n",
    "ax.set_ylabel('RAM')\n",
    "ax.set_title('Točkovna povezava med delovnim spominom in pomnilnikom računalnika ')"
   ]
  },
  {
   "cell_type": "markdown",
   "id": "f6605548",
   "metadata": {},
   "source": [
    "Žal je podatkov premalo, da bi lahko naredili lep sklep, videti pa je, da večja kapaciteta delovnega pomnilnika (RAMa) implicira tudi večji pospešeni računalniški spomin in obratno. Pričakovali bi, da bi nekako dobili linearno povezavo med kapaciteto RAMa in SSDja v računalniku. Z izjemo dveh anomalij v kotih grafa, naš graf tudi nakazuje na povezavo med RAMom in SSD-jem.\n",
    "\n",
    "Obstaja pa očitna povezava med naraščanjem RAMa oz SSDja ter ceno računalnikov - z večanjem računalniških kapacitet raste tudi cena :)"
   ]
  },
  {
   "cell_type": "markdown",
   "id": "5c92095a",
   "metadata": {},
   "source": [
    "### 1.8 Korelacijska matrika podatkov"
   ]
  },
  {
   "cell_type": "markdown",
   "id": "bf42ec32",
   "metadata": {},
   "source": [
    "Oglejmo si še druge možne povezave med podatki v naši tabeli:"
   ]
  },
  {
   "cell_type": "code",
   "execution_count": 303,
   "id": "a70bd450",
   "metadata": {
    "scrolled": true
   },
   "outputs": [
    {
     "name": "stderr",
     "output_type": "stream",
     "text": [
      "/var/folders/9s/v0gzy6497956yzhn8x7gf8mh0000gn/T/ipykernel_55287/2224094166.py:1: FutureWarning: The default value of numeric_only in DataFrame.corr is deprecated. In a future version, it will default to False. Select only valid columns or specify the value of numeric_only to silence this warning.\n",
      "  zdruzeni_nuci.corr()\n"
     ]
    },
    {
     "data": {
      "text/html": [
       "<div>\n",
       "<style scoped>\n",
       "    .dataframe tbody tr th:only-of-type {\n",
       "        vertical-align: middle;\n",
       "    }\n",
       "\n",
       "    .dataframe tbody tr th {\n",
       "        vertical-align: top;\n",
       "    }\n",
       "\n",
       "    .dataframe thead th {\n",
       "        text-align: right;\n",
       "    }\n",
       "</style>\n",
       "<table border=\"1\" class=\"dataframe\">\n",
       "  <thead>\n",
       "    <tr style=\"text-align: right;\">\n",
       "      <th></th>\n",
       "      <th>cena</th>\n",
       "      <th>vrednost_kupona</th>\n",
       "      <th>ocena</th>\n",
       "      <th>stevilo_ocen</th>\n",
       "      <th>cas_dostave</th>\n",
       "      <th>amazons_choice</th>\n",
       "      <th>produkt_sponzoriran</th>\n",
       "      <th>cena_discrete</th>\n",
       "    </tr>\n",
       "  </thead>\n",
       "  <tbody>\n",
       "    <tr>\n",
       "      <th>cena</th>\n",
       "      <td>1.000000</td>\n",
       "      <td>0.091654</td>\n",
       "      <td>0.166392</td>\n",
       "      <td>-0.236813</td>\n",
       "      <td>0.178430</td>\n",
       "      <td>0.064104</td>\n",
       "      <td>-0.037304</td>\n",
       "      <td>0.997230</td>\n",
       "    </tr>\n",
       "    <tr>\n",
       "      <th>vrednost_kupona</th>\n",
       "      <td>0.091654</td>\n",
       "      <td>1.000000</td>\n",
       "      <td>0.110559</td>\n",
       "      <td>-0.047127</td>\n",
       "      <td>0.129436</td>\n",
       "      <td>0.167866</td>\n",
       "      <td>0.345434</td>\n",
       "      <td>0.069202</td>\n",
       "    </tr>\n",
       "    <tr>\n",
       "      <th>ocena</th>\n",
       "      <td>0.166392</td>\n",
       "      <td>0.110559</td>\n",
       "      <td>1.000000</td>\n",
       "      <td>-0.100828</td>\n",
       "      <td>0.279475</td>\n",
       "      <td>-0.005960</td>\n",
       "      <td>0.180301</td>\n",
       "      <td>0.180504</td>\n",
       "    </tr>\n",
       "    <tr>\n",
       "      <th>stevilo_ocen</th>\n",
       "      <td>-0.236813</td>\n",
       "      <td>-0.047127</td>\n",
       "      <td>-0.100828</td>\n",
       "      <td>1.000000</td>\n",
       "      <td>-0.110277</td>\n",
       "      <td>-0.042101</td>\n",
       "      <td>0.005245</td>\n",
       "      <td>-0.234530</td>\n",
       "    </tr>\n",
       "    <tr>\n",
       "      <th>cas_dostave</th>\n",
       "      <td>0.178430</td>\n",
       "      <td>0.129436</td>\n",
       "      <td>0.279475</td>\n",
       "      <td>-0.110277</td>\n",
       "      <td>1.000000</td>\n",
       "      <td>-0.035281</td>\n",
       "      <td>0.133167</td>\n",
       "      <td>0.183839</td>\n",
       "    </tr>\n",
       "    <tr>\n",
       "      <th>amazons_choice</th>\n",
       "      <td>0.064104</td>\n",
       "      <td>0.167866</td>\n",
       "      <td>-0.005960</td>\n",
       "      <td>-0.042101</td>\n",
       "      <td>-0.035281</td>\n",
       "      <td>1.000000</td>\n",
       "      <td>0.021925</td>\n",
       "      <td>0.055305</td>\n",
       "    </tr>\n",
       "    <tr>\n",
       "      <th>produkt_sponzoriran</th>\n",
       "      <td>-0.037304</td>\n",
       "      <td>0.345434</td>\n",
       "      <td>0.180301</td>\n",
       "      <td>0.005245</td>\n",
       "      <td>0.133167</td>\n",
       "      <td>0.021925</td>\n",
       "      <td>1.000000</td>\n",
       "      <td>-0.031842</td>\n",
       "    </tr>\n",
       "    <tr>\n",
       "      <th>cena_discrete</th>\n",
       "      <td>0.997230</td>\n",
       "      <td>0.069202</td>\n",
       "      <td>0.180504</td>\n",
       "      <td>-0.234530</td>\n",
       "      <td>0.183839</td>\n",
       "      <td>0.055305</td>\n",
       "      <td>-0.031842</td>\n",
       "      <td>1.000000</td>\n",
       "    </tr>\n",
       "  </tbody>\n",
       "</table>\n",
       "</div>"
      ],
      "text/plain": [
       "                         cena  vrednost_kupona     ocena  stevilo_ocen  \\\n",
       "cena                 1.000000         0.091654  0.166392     -0.236813   \n",
       "vrednost_kupona      0.091654         1.000000  0.110559     -0.047127   \n",
       "ocena                0.166392         0.110559  1.000000     -0.100828   \n",
       "stevilo_ocen        -0.236813        -0.047127 -0.100828      1.000000   \n",
       "cas_dostave          0.178430         0.129436  0.279475     -0.110277   \n",
       "amazons_choice       0.064104         0.167866 -0.005960     -0.042101   \n",
       "produkt_sponzoriran -0.037304         0.345434  0.180301      0.005245   \n",
       "cena_discrete        0.997230         0.069202  0.180504     -0.234530   \n",
       "\n",
       "                     cas_dostave  amazons_choice  produkt_sponzoriran  \\\n",
       "cena                    0.178430        0.064104            -0.037304   \n",
       "vrednost_kupona         0.129436        0.167866             0.345434   \n",
       "ocena                   0.279475       -0.005960             0.180301   \n",
       "stevilo_ocen           -0.110277       -0.042101             0.005245   \n",
       "cas_dostave             1.000000       -0.035281             0.133167   \n",
       "amazons_choice         -0.035281        1.000000             0.021925   \n",
       "produkt_sponzoriran     0.133167        0.021925             1.000000   \n",
       "cena_discrete           0.183839        0.055305            -0.031842   \n",
       "\n",
       "                     cena_discrete  \n",
       "cena                      0.997230  \n",
       "vrednost_kupona           0.069202  \n",
       "ocena                     0.180504  \n",
       "stevilo_ocen             -0.234530  \n",
       "cas_dostave               0.183839  \n",
       "amazons_choice            0.055305  \n",
       "produkt_sponzoriran      -0.031842  \n",
       "cena_discrete             1.000000  "
      ]
     },
     "execution_count": 303,
     "metadata": {},
     "output_type": "execute_result"
    }
   ],
   "source": [
    "zdruzeni_nuci.corr()"
   ]
  },
  {
   "cell_type": "markdown",
   "id": "e4fcfe94",
   "metadata": {},
   "source": [
    "Omeniti gre par intuitivno smiselnih sklepov:\n",
    "- Vrednost kupona je v pozitivni korelaciji s ceno, saj višji kupon (\"popust\") implicira tudi prvotno višjo ceno. S kuponom torej ne profitiramo kaj dosti...\n",
    "- Cena je v negativni korelaciji z številom ocen, saj manj ljudi kupuje dražje računalnike.\n",
    "- Višja ocena je pozitivno povezana s časom dostave, saj bodo ljudje bolj zadovoljni, če bodo računalnik prejeli prej."
   ]
  },
  {
   "cell_type": "code",
   "execution_count": 304,
   "id": "56354331",
   "metadata": {
    "scrolled": false
   },
   "outputs": [
    {
     "data": {
      "image/png": "[encoded data removed]",
      "text/plain": [
       "<Figure size 1000x500 with 1 Axes>"
      ]
     },
     "metadata": {},
     "output_type": "display_data"
    }
   ],
   "source": [
    "t = zdruzeni_nuci[['ssd', 'ram']][\n",
    "    (zdruzeni_nuci['ssd'] != 'unknown')\n",
    "    & (zdruzeni_nuci['ram'] != 'unknown')\n",
    "].astype({'ssd': 'float', 'ram': 'float'})\n",
    "\n",
    "\n",
    "corr_matrix_ssd_ram = np.corrcoef(t.values, rowvar=False)\n",
    "plt.close()\n",
    "plt.imshow(corr_matrix_ssd_ram, interpolation='antialiased', cmap='Pastel1')\n",
    "plt.show()\n"
   ]
  },
  {
   "cell_type": "code",
   "execution_count": 305,
   "id": "03574003",
   "metadata": {},
   "outputs": [
    {
     "data": {
      "text/plain": [
       "array([[1.       , 0.2187291],\n",
       "       [0.2187291, 1.       ]])"
      ]
     },
     "execution_count": 305,
     "metadata": {},
     "output_type": "execute_result"
    }
   ],
   "source": [
    "corr_matrix_ssd_ram"
   ]
  },
  {
   "cell_type": "markdown",
   "id": "184abf14",
   "metadata": {},
   "source": [
    "Graf in korelacijska matrika zgoraj nakazujeta na negativno povezavo med RAM-om in SSD-jem! Sklepal bi, da se to zgodi zaradi dveh anomalij, predstavljeni v grafih zgoraj."
   ]
  },
  {
   "cell_type": "markdown",
   "id": "fd99badb",
   "metadata": {},
   "source": [
    "### 1.9 Proizvajalec računalnikov"
   ]
  },
  {
   "cell_type": "markdown",
   "id": "efb650f9",
   "metadata": {},
   "source": [
    "Podrobneje si oglejmo še razlike med proizvajalci NUCev."
   ]
  },
  {
   "cell_type": "code",
   "execution_count": 306,
   "id": "84950b17",
   "metadata": {
    "scrolled": true
   },
   "outputs": [
    {
     "data": {
      "text/plain": [
       "Text(0.5, 1.0, 'Porazdelitev računalnikov po proizvajalcih')"
      ]
     },
     "execution_count": 306,
     "metadata": {},
     "output_type": "execute_result"
    },
    {
     "data": {
      "image/png": "[encoded data removed]",
      "text/plain": [
       "<Figure size 1000x500 with 1 Axes>"
      ]
     },
     "metadata": {},
     "output_type": "display_data"
    }
   ],
   "source": [
    "nuci_po_proizvajalcih = zdruzeni_nuci.groupby('proizvajalec').count()\n",
    "ax = nuci_po_proizvajalcih['opis'].plot.bar()\n",
    "\n",
    "ax.set_xlabel('Proizvajalec')\n",
    "ax.set_ylabel('Število proizvedenih računalnikov')\n",
    "ax.set_title('Porazdelitev računalnikov po proizvajalcih')"
   ]
  },
  {
   "cell_type": "markdown",
   "id": "b093c191",
   "metadata": {},
   "source": [
    "Intel več kot očitno dominira na tem področju :)"
   ]
  },
  {
   "cell_type": "code",
   "execution_count": 307,
   "id": "5e5fdd30",
   "metadata": {},
   "outputs": [
    {
     "name": "stderr",
     "output_type": "stream",
     "text": [
      "/var/folders/9s/v0gzy6497956yzhn8x7gf8mh0000gn/T/ipykernel_55287/1004907703.py:1: FutureWarning: The default value of numeric_only in DataFrameGroupBy.mean is deprecated. In a future version, numeric_only will default to False. Either specify numeric_only or select only columns which should be valid for the function.\n",
      "  zdruzeni_nuci_po_proizvajalcih = zdruzeni_nuci.groupby('proizvajalec').mean()[\n"
     ]
    },
    {
     "data": {
      "text/html": [
       "<div>\n",
       "<style scoped>\n",
       "    .dataframe tbody tr th:only-of-type {\n",
       "        vertical-align: middle;\n",
       "    }\n",
       "\n",
       "    .dataframe tbody tr th {\n",
       "        vertical-align: top;\n",
       "    }\n",
       "\n",
       "    .dataframe thead th {\n",
       "        text-align: right;\n",
       "    }\n",
       "</style>\n",
       "<table border=\"1\" class=\"dataframe\">\n",
       "  <thead>\n",
       "    <tr style=\"text-align: right;\">\n",
       "      <th></th>\n",
       "      <th>cena</th>\n",
       "      <th>vrednost_kupona</th>\n",
       "      <th>ocena</th>\n",
       "      <th>stevilo_ocen</th>\n",
       "      <th>amazons_choice</th>\n",
       "      <th>produkt_sponzoriran</th>\n",
       "      <th>stevilo_proizvedenih</th>\n",
       "    </tr>\n",
       "    <tr>\n",
       "      <th>proizvajalec</th>\n",
       "      <th></th>\n",
       "      <th></th>\n",
       "      <th></th>\n",
       "      <th></th>\n",
       "      <th></th>\n",
       "      <th></th>\n",
       "      <th></th>\n",
       "    </tr>\n",
       "  </thead>\n",
       "  <tbody>\n",
       "    <tr>\n",
       "      <th>Intel</th>\n",
       "      <td>489.734889</td>\n",
       "      <td>24.648889</td>\n",
       "      <td>4.417778</td>\n",
       "      <td>99.826667</td>\n",
       "      <td>0.008889</td>\n",
       "      <td>0.373333</td>\n",
       "      <td>225</td>\n",
       "    </tr>\n",
       "    <tr>\n",
       "      <th>unknown</th>\n",
       "      <td>632.698095</td>\n",
       "      <td>7.619048</td>\n",
       "      <td>4.695238</td>\n",
       "      <td>52.809524</td>\n",
       "      <td>0.000000</td>\n",
       "      <td>0.000000</td>\n",
       "      <td>21</td>\n",
       "    </tr>\n",
       "    <tr>\n",
       "      <th>MINIS FORUM</th>\n",
       "      <td>321.280000</td>\n",
       "      <td>11.000000</td>\n",
       "      <td>4.460000</td>\n",
       "      <td>426.250000</td>\n",
       "      <td>0.000000</td>\n",
       "      <td>0.600000</td>\n",
       "      <td>20</td>\n",
       "    </tr>\n",
       "    <tr>\n",
       "      <th>GEEKOM</th>\n",
       "      <td>501.808182</td>\n",
       "      <td>68.181818</td>\n",
       "      <td>4.590909</td>\n",
       "      <td>165.181818</td>\n",
       "      <td>0.000000</td>\n",
       "      <td>0.818182</td>\n",
       "      <td>11</td>\n",
       "    </tr>\n",
       "    <tr>\n",
       "      <th>Chuwi</th>\n",
       "      <td>399.000000</td>\n",
       "      <td>30.000000</td>\n",
       "      <td>4.300000</td>\n",
       "      <td>254.000000</td>\n",
       "      <td>0.000000</td>\n",
       "      <td>0.900000</td>\n",
       "      <td>10</td>\n",
       "    </tr>\n",
       "    <tr>\n",
       "      <th>HISTTON</th>\n",
       "      <td>484.000000</td>\n",
       "      <td>0.000000</td>\n",
       "      <td>4.300000</td>\n",
       "      <td>62.000000</td>\n",
       "      <td>0.000000</td>\n",
       "      <td>0.000000</td>\n",
       "      <td>2</td>\n",
       "    </tr>\n",
       "    <tr>\n",
       "      <th>Shuttle</th>\n",
       "      <td>252.990000</td>\n",
       "      <td>0.000000</td>\n",
       "      <td>4.800000</td>\n",
       "      <td>3.000000</td>\n",
       "      <td>0.000000</td>\n",
       "      <td>0.000000</td>\n",
       "      <td>2</td>\n",
       "    </tr>\n",
       "    <tr>\n",
       "      <th>Shinobee</th>\n",
       "      <td>177.000000</td>\n",
       "      <td>0.000000</td>\n",
       "      <td>4.000000</td>\n",
       "      <td>2.000000</td>\n",
       "      <td>0.000000</td>\n",
       "      <td>0.000000</td>\n",
       "      <td>2</td>\n",
       "    </tr>\n",
       "    <tr>\n",
       "      <th>MeLE</th>\n",
       "      <td>354.990000</td>\n",
       "      <td>40.000000</td>\n",
       "      <td>4.500000</td>\n",
       "      <td>211.000000</td>\n",
       "      <td>0.000000</td>\n",
       "      <td>0.000000</td>\n",
       "      <td>2</td>\n",
       "    </tr>\n",
       "    <tr>\n",
       "      <th>HP</th>\n",
       "      <td>946.080000</td>\n",
       "      <td>0.000000</td>\n",
       "      <td>5.000000</td>\n",
       "      <td>4.000000</td>\n",
       "      <td>0.000000</td>\n",
       "      <td>0.000000</td>\n",
       "      <td>2</td>\n",
       "    </tr>\n",
       "    <tr>\n",
       "      <th>GIGABYTE</th>\n",
       "      <td>135.480000</td>\n",
       "      <td>0.000000</td>\n",
       "      <td>4.100000</td>\n",
       "      <td>32.000000</td>\n",
       "      <td>0.000000</td>\n",
       "      <td>0.000000</td>\n",
       "      <td>2</td>\n",
       "    </tr>\n",
       "    <tr>\n",
       "      <th>Beelink</th>\n",
       "      <td>204.495000</td>\n",
       "      <td>20.000000</td>\n",
       "      <td>4.050000</td>\n",
       "      <td>80.500000</td>\n",
       "      <td>0.000000</td>\n",
       "      <td>0.000000</td>\n",
       "      <td>2</td>\n",
       "    </tr>\n",
       "    <tr>\n",
       "      <th>Apple</th>\n",
       "      <td>677.980000</td>\n",
       "      <td>0.000000</td>\n",
       "      <td>4.700000</td>\n",
       "      <td>1757.000000</td>\n",
       "      <td>0.000000</td>\n",
       "      <td>0.000000</td>\n",
       "      <td>1</td>\n",
       "    </tr>\n",
       "    <tr>\n",
       "      <th>Lenovo</th>\n",
       "      <td>168.000000</td>\n",
       "      <td>0.000000</td>\n",
       "      <td>4.200000</td>\n",
       "      <td>840.000000</td>\n",
       "      <td>0.000000</td>\n",
       "      <td>0.000000</td>\n",
       "      <td>1</td>\n",
       "    </tr>\n",
       "    <tr>\n",
       "      <th>Fujitsu</th>\n",
       "      <td>169.000000</td>\n",
       "      <td>0.000000</td>\n",
       "      <td>4.800000</td>\n",
       "      <td>6.000000</td>\n",
       "      <td>0.000000</td>\n",
       "      <td>0.000000</td>\n",
       "      <td>1</td>\n",
       "    </tr>\n",
       "    <tr>\n",
       "      <th>DILC</th>\n",
       "      <td>918.850000</td>\n",
       "      <td>0.000000</td>\n",
       "      <td>4.100000</td>\n",
       "      <td>16.000000</td>\n",
       "      <td>0.000000</td>\n",
       "      <td>0.000000</td>\n",
       "      <td>1</td>\n",
       "    </tr>\n",
       "    <tr>\n",
       "      <th>STRHIGP</th>\n",
       "      <td>353.000000</td>\n",
       "      <td>0.000000</td>\n",
       "      <td>4.800000</td>\n",
       "      <td>13.000000</td>\n",
       "      <td>0.000000</td>\n",
       "      <td>0.000000</td>\n",
       "      <td>1</td>\n",
       "    </tr>\n",
       "    <tr>\n",
       "      <th>BMAX</th>\n",
       "      <td>169.990000</td>\n",
       "      <td>0.000000</td>\n",
       "      <td>4.500000</td>\n",
       "      <td>206.000000</td>\n",
       "      <td>0.000000</td>\n",
       "      <td>0.000000</td>\n",
       "      <td>1</td>\n",
       "    </tr>\n",
       "    <tr>\n",
       "      <th>ZOTAC</th>\n",
       "      <td>386.550000</td>\n",
       "      <td>0.000000</td>\n",
       "      <td>2.000000</td>\n",
       "      <td>1.000000</td>\n",
       "      <td>0.000000</td>\n",
       "      <td>0.000000</td>\n",
       "      <td>1</td>\n",
       "    </tr>\n",
       "    <tr>\n",
       "      <th>AKASA</th>\n",
       "      <td>98.880000</td>\n",
       "      <td>0.000000</td>\n",
       "      <td>4.300000</td>\n",
       "      <td>18.000000</td>\n",
       "      <td>0.000000</td>\n",
       "      <td>0.000000</td>\n",
       "      <td>1</td>\n",
       "    </tr>\n",
       "  </tbody>\n",
       "</table>\n",
       "</div>"
      ],
      "text/plain": [
       "                    cena  vrednost_kupona     ocena  stevilo_ocen  \\\n",
       "proizvajalec                                                        \n",
       "Intel         489.734889        24.648889  4.417778     99.826667   \n",
       "unknown       632.698095         7.619048  4.695238     52.809524   \n",
       "MINIS FORUM   321.280000        11.000000  4.460000    426.250000   \n",
       "GEEKOM        501.808182        68.181818  4.590909    165.181818   \n",
       "Chuwi         399.000000        30.000000  4.300000    254.000000   \n",
       "HISTTON       484.000000         0.000000  4.300000     62.000000   \n",
       "Shuttle       252.990000         0.000000  4.800000      3.000000   \n",
       "Shinobee      177.000000         0.000000  4.000000      2.000000   \n",
       "MeLE          354.990000        40.000000  4.500000    211.000000   \n",
       "HP            946.080000         0.000000  5.000000      4.000000   \n",
       "GIGABYTE      135.480000         0.000000  4.100000     32.000000   \n",
       "Beelink       204.495000        20.000000  4.050000     80.500000   \n",
       "Apple         677.980000         0.000000  4.700000   1757.000000   \n",
       "Lenovo        168.000000         0.000000  4.200000    840.000000   \n",
       "Fujitsu       169.000000         0.000000  4.800000      6.000000   \n",
       "DILC          918.850000         0.000000  4.100000     16.000000   \n",
       "STRHIGP       353.000000         0.000000  4.800000     13.000000   \n",
       "BMAX          169.990000         0.000000  4.500000    206.000000   \n",
       "ZOTAC         386.550000         0.000000  2.000000      1.000000   \n",
       "AKASA          98.880000         0.000000  4.300000     18.000000   \n",
       "\n",
       "              amazons_choice  produkt_sponzoriran  stevilo_proizvedenih  \n",
       "proizvajalec                                                             \n",
       "Intel               0.008889             0.373333                   225  \n",
       "unknown             0.000000             0.000000                    21  \n",
       "MINIS FORUM         0.000000             0.600000                    20  \n",
       "GEEKOM              0.000000             0.818182                    11  \n",
       "Chuwi               0.000000             0.900000                    10  \n",
       "HISTTON             0.000000             0.000000                     2  \n",
       "Shuttle             0.000000             0.000000                     2  \n",
       "Shinobee            0.000000             0.000000                     2  \n",
       "MeLE                0.000000             0.000000                     2  \n",
       "HP                  0.000000             0.000000                     2  \n",
       "GIGABYTE            0.000000             0.000000                     2  \n",
       "Beelink             0.000000             0.000000                     2  \n",
       "Apple               0.000000             0.000000                     1  \n",
       "Lenovo              0.000000             0.000000                     1  \n",
       "Fujitsu             0.000000             0.000000                     1  \n",
       "DILC                0.000000             0.000000                     1  \n",
       "STRHIGP             0.000000             0.000000                     1  \n",
       "BMAX                0.000000             0.000000                     1  \n",
       "ZOTAC               0.000000             0.000000                     1  \n",
       "AKASA               0.000000             0.000000                     1  "
      ]
     },
     "execution_count": 307,
     "metadata": {},
     "output_type": "execute_result"
    }
   ],
   "source": [
    "zdruzeni_nuci_po_proizvajalcih = zdruzeni_nuci.groupby('proizvajalec').mean()[\n",
    "    [\n",
    "        'cena', \n",
    "        'vrednost_kupona', \n",
    "        'ocena', \n",
    "        'stevilo_ocen', \n",
    "        'amazons_choice', \n",
    "        'produkt_sponzoriran'\n",
    "    ]\n",
    "].join(\n",
    "    nuci_po_proizvajalcih[['opis']].rename(\n",
    "        columns={'opis': 'stevilo_proizvedenih'}\n",
    "    )\n",
    ").sort_values(\n",
    "    'stevilo_proizvedenih', \n",
    "    ascending=False\n",
    ")\n",
    "\n",
    "\n",
    "zdruzeni_nuci_po_proizvajalcih"
   ]
  },
  {
   "cell_type": "markdown",
   "id": "101ecc02",
   "metadata": {},
   "source": [
    "Iz zgolj enega ali dveh proizvedenih računalnikov težko kaj sklepamo o prizvajalcu. Zato bom tiste proizvajalce s samo enemu ali dvema računalnikoma na trgu umaknil."
   ]
  },
  {
   "cell_type": "code",
   "execution_count": 308,
   "id": "48c7eaf9",
   "metadata": {},
   "outputs": [],
   "source": [
    "zdruzeni_nuci_po_proizvajalcih = zdruzeni_nuci_po_proizvajalcih[\n",
    "    zdruzeni_nuci_po_proizvajalcih['stevilo_proizvedenih'] > 2\n",
    "].rename(\n",
    "        columns={\n",
    "            'cena': 'povprecna_cena',\n",
    "            'vrednost_kupona': 'povprecna_vrednost_kupona',\n",
    "            'ocena': 'povprecna_ocena',\n",
    "            'stevilo_ocen': 'povprecno_stevilo_ocen'\n",
    "        }\n",
    "    )"
   ]
  },
  {
   "cell_type": "code",
   "execution_count": 309,
   "id": "5dd4444a",
   "metadata": {
    "scrolled": true
   },
   "outputs": [
    {
     "data": {
      "text/html": [
       "<div>\n",
       "<style scoped>\n",
       "    .dataframe tbody tr th:only-of-type {\n",
       "        vertical-align: middle;\n",
       "    }\n",
       "\n",
       "    .dataframe tbody tr th {\n",
       "        vertical-align: top;\n",
       "    }\n",
       "\n",
       "    .dataframe thead th {\n",
       "        text-align: right;\n",
       "    }\n",
       "</style>\n",
       "<table border=\"1\" class=\"dataframe\">\n",
       "  <thead>\n",
       "    <tr style=\"text-align: right;\">\n",
       "      <th></th>\n",
       "      <th>povprecna_cena</th>\n",
       "      <th>povprecna_vrednost_kupona</th>\n",
       "      <th>povprecna_ocena</th>\n",
       "      <th>povprecno_stevilo_ocen</th>\n",
       "      <th>amazons_choice</th>\n",
       "      <th>produkt_sponzoriran</th>\n",
       "      <th>stevilo_proizvedenih</th>\n",
       "    </tr>\n",
       "    <tr>\n",
       "      <th>proizvajalec</th>\n",
       "      <th></th>\n",
       "      <th></th>\n",
       "      <th></th>\n",
       "      <th></th>\n",
       "      <th></th>\n",
       "      <th></th>\n",
       "      <th></th>\n",
       "    </tr>\n",
       "  </thead>\n",
       "  <tbody>\n",
       "    <tr>\n",
       "      <th>Intel</th>\n",
       "      <td>489.734889</td>\n",
       "      <td>24.648889</td>\n",
       "      <td>4.417778</td>\n",
       "      <td>99.826667</td>\n",
       "      <td>0.008889</td>\n",
       "      <td>0.373333</td>\n",
       "      <td>225</td>\n",
       "    </tr>\n",
       "    <tr>\n",
       "      <th>unknown</th>\n",
       "      <td>632.698095</td>\n",
       "      <td>7.619048</td>\n",
       "      <td>4.695238</td>\n",
       "      <td>52.809524</td>\n",
       "      <td>0.000000</td>\n",
       "      <td>0.000000</td>\n",
       "      <td>21</td>\n",
       "    </tr>\n",
       "    <tr>\n",
       "      <th>MINIS FORUM</th>\n",
       "      <td>321.280000</td>\n",
       "      <td>11.000000</td>\n",
       "      <td>4.460000</td>\n",
       "      <td>426.250000</td>\n",
       "      <td>0.000000</td>\n",
       "      <td>0.600000</td>\n",
       "      <td>20</td>\n",
       "    </tr>\n",
       "    <tr>\n",
       "      <th>GEEKOM</th>\n",
       "      <td>501.808182</td>\n",
       "      <td>68.181818</td>\n",
       "      <td>4.590909</td>\n",
       "      <td>165.181818</td>\n",
       "      <td>0.000000</td>\n",
       "      <td>0.818182</td>\n",
       "      <td>11</td>\n",
       "    </tr>\n",
       "    <tr>\n",
       "      <th>Chuwi</th>\n",
       "      <td>399.000000</td>\n",
       "      <td>30.000000</td>\n",
       "      <td>4.300000</td>\n",
       "      <td>254.000000</td>\n",
       "      <td>0.000000</td>\n",
       "      <td>0.900000</td>\n",
       "      <td>10</td>\n",
       "    </tr>\n",
       "  </tbody>\n",
       "</table>\n",
       "</div>"
      ],
      "text/plain": [
       "              povprecna_cena  povprecna_vrednost_kupona  povprecna_ocena  \\\n",
       "proizvajalec                                                               \n",
       "Intel             489.734889                  24.648889         4.417778   \n",
       "unknown           632.698095                   7.619048         4.695238   \n",
       "MINIS FORUM       321.280000                  11.000000         4.460000   \n",
       "GEEKOM            501.808182                  68.181818         4.590909   \n",
       "Chuwi             399.000000                  30.000000         4.300000   \n",
       "\n",
       "              povprecno_stevilo_ocen  amazons_choice  produkt_sponzoriran  \\\n",
       "proizvajalec                                                                \n",
       "Intel                      99.826667        0.008889             0.373333   \n",
       "unknown                    52.809524        0.000000             0.000000   \n",
       "MINIS FORUM               426.250000        0.000000             0.600000   \n",
       "GEEKOM                    165.181818        0.000000             0.818182   \n",
       "Chuwi                     254.000000        0.000000             0.900000   \n",
       "\n",
       "              stevilo_proizvedenih  \n",
       "proizvajalec                        \n",
       "Intel                          225  \n",
       "unknown                         21  \n",
       "MINIS FORUM                     20  \n",
       "GEEKOM                          11  \n",
       "Chuwi                           10  "
      ]
     },
     "execution_count": 309,
     "metadata": {},
     "output_type": "execute_result"
    }
   ],
   "source": [
    "zdruzeni_nuci_po_proizvajalcih"
   ]
  },
  {
   "cell_type": "markdown",
   "id": "509505b4",
   "metadata": {},
   "source": [
    "Za konec si poglejmo še podatke o različnih proizvajalcih:"
   ]
  },
  {
   "cell_type": "code",
   "execution_count": 310,
   "id": "b5031b05",
   "metadata": {
    "scrolled": false
   },
   "outputs": [
    {
     "data": {
      "image/png": "[encoded data removed]",
      "text/plain": [
       "<Figure size 1000x500 with 1 Axes>"
      ]
     },
     "metadata": {},
     "output_type": "display_data"
    },
    {
     "data": {
      "image/png": "[encoded data removed]",
      "text/plain": [
       "<Figure size 1000x500 with 1 Axes>"
      ]
     },
     "metadata": {},
     "output_type": "display_data"
    },
    {
     "data": {
      "image/png": "[encoded data removed]",
      "text/plain": [
       "<Figure size 1000x500 with 1 Axes>"
      ]
     },
     "metadata": {},
     "output_type": "display_data"
    },
    {
     "data": {
      "image/png": "[encoded data removed]",
      "text/plain": [
       "<Figure size 1000x500 with 1 Axes>"
      ]
     },
     "metadata": {},
     "output_type": "display_data"
    }
   ],
   "source": [
    "tickers = ['povprecna_cena', 'povprecna_vrednost_kupona', 'povprecno_stevilo_ocen', 'stevilo_proizvedenih']\n",
    "tickers_color_mapping = {\n",
    "    'povprecna_cena': 'teal',\n",
    "    'povprecna_vrednost_kupona': 'aqua',\n",
    "    'povprecno_stevilo_ocen': 'darkturquoise',\n",
    "    'stevilo_proizvedenih': 'deepskyblue',\n",
    "}\n",
    "for ticker in tickers:\n",
    "    zdruzeni_nuci_po_proizvajalcih[[ticker]].plot.bar(\n",
    "        color=tickers_color_mapping.get(ticker, 'black'), \n",
    "        alpha=0.75, \n",
    "        linewidth=1, \n",
    "        width=0.85\n",
    "    )"
   ]
  },
  {
   "cell_type": "markdown",
   "id": "937a1658",
   "metadata": {},
   "source": [
    "Zanimivo je videti, da ima GEEKOM toliko višje povprečne vrednosti kupona kot vsi ostali. Predstavljam si, da s svojimi hočejo bolj prodreti na trg ter kupcem zato ponujati približno dvakrat in pol večje kupone kot naslednja (Intel, Chuwi).\n",
    "\n",
    "Preseneti me, da čeprav je sicer Intel največji proizvajalec računalnikov na trgu, pa za vsak računalnik posebej največ pozornosti dobijo računalniki MINIS FORUMa - imajo namreč največ ocen za vsak računalnik. Njihova povprečna cena je prav tako malce višja od Intelove."
   ]
  }
 ],
 "metadata": {
  "kernelspec": {
   "display_name": "Python 3 (ipykernel)",
   "language": "python",
   "name": "python3"
  },
  "language_info": {
   "codemirror_mode": {
    "name": "ipython",
    "version": 3
   },
   "file_extension": ".py",
   "mimetype": "text/x-python",
   "name": "python",
   "nbconvert_exporter": "python",
   "pygments_lexer": "ipython3",
   "version": "3.10.8"
  }
 },
 "nbformat": 4,
 "nbformat_minor": 5
}
