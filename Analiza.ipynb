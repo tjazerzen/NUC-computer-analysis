{
 "cells": [
  {
   "cell_type": "markdown",
   "id": "755a7e72",
   "metadata": {},
   "source": [
    "# Analiza računalnikov na [nemškem Amazonu](https://www.amazon.de/s?k=nuc&page=2&language=en&crid=3VIZDYTXC6EN7&qid=1666151008&sprefix=n%2Caps%2C187&ref=sr_pg_2)"
   ]
  },
  {
   "cell_type": "markdown",
   "id": "75ee68c1",
   "metadata": {},
   "source": [
    "Projektna naloga pri predmetu Programiranje 1"
   ]
  },
  {
   "cell_type": "markdown",
   "id": "d587397b",
   "metadata": {},
   "source": [
    "## 0. Priprava podatkov"
   ]
  },
  {
   "cell_type": "markdown",
   "id": "98e81fe0",
   "metadata": {},
   "source": [
    "Preden začnemo, moramo uvoziti vnaprej pripravljene podatke. V ta namen uporabimo knjižnico pandas in vnesemo podatke v tabele."
   ]
  },
  {
   "cell_type": "code",
   "execution_count": 2,
   "id": "89ec116e",
   "metadata": {},
   "outputs": [],
   "source": [
    "import pandas as pd\n",
    "import os\n",
    "\n",
    "# izberemo interaktivni stil risanja\n",
    "%matplotlib inline\n",
    "\n",
    "# spremenimo velikost figur\n",
    "import matplotlib as plt\n",
    "plt.rcParams['figure.figsize'] = (10, 5)\n",
    "\n",
    "pd.set_option('display.max_rows', 20)"
   ]
  },
  {
   "cell_type": "code",
   "execution_count": 9,
   "id": "1a0de5bf",
   "metadata": {},
   "outputs": [],
   "source": [
    "pot_do_nucov = os.path.join('obdelani-podatki', 'nuci.csv')\n",
    "pot_do_operacijskih_sistemov = os.path.join('obdelani-podatki', 'operacijski_sistem.csv')\n",
    "pot_do_proizvajalcev = os.path.join('obdelani-podatki', 'proizvajalci.csv')\n",
    "pot_do_ram = os.path.join('obdelani-podatki', 'ram.csv')\n",
    "pot_do_ssd = os.path.join('obdelani-podatki', 'ssd.csv')\n",
    "\n",
    "nuci = pd.read_csv(pot_do_nucov)\n",
    "operacijski_sistemi = pd.read_csv(pot_do_operacijskih_sistemov)\n",
    "proizvajalci = pd.read_csv(pot_do_proizvajalcev)\n",
    "ram = pd.read_csv(pot_do_ram)\n",
    "ssd = pd.read_csv(pot_do_ssd)"
   ]
  },
  {
   "cell_type": "markdown",
   "id": "53ab04b0",
   "metadata": {},
   "source": [
    "Tukaj še malo očistim podatke, saj nam gredo NUC-i brez cene samo v napoto "
   ]
  },
  {
   "cell_type": "code",
   "execution_count": 12,
   "id": "d5b4b6cd",
   "metadata": {},
   "outputs": [
    {
     "data": {
      "text/plain": [
       "opis                    object\n",
       "cena                    object\n",
       "id                      object\n",
       "vrednost_kupona        float64\n",
       "ocena                  float64\n",
       "stevilo_ocen            object\n",
       "cas_dostave              int64\n",
       "amazons_choice            bool\n",
       "produkt_sponzoriran       bool\n",
       "proizvajalec_id          int64\n",
       "OS_id                    int64\n",
       "ssd_id                   int64\n",
       "ram_id                   int64\n",
       "dtype: object"
      ]
     },
     "execution_count": 12,
     "metadata": {},
     "output_type": "execute_result"
    }
   ],
   "source": [
    "nuci.dtypes"
   ]
  },
  {
   "cell_type": "code",
   "execution_count": null,
   "id": "c656ca40",
   "metadata": {},
   "outputs": [],
   "source": []
  },
  {
   "cell_type": "code",
   "execution_count": null,
   "id": "29fc25a3",
   "metadata": {},
   "outputs": [],
   "source": []
  }
 ],
 "metadata": {
  "kernelspec": {
   "display_name": "Python 3 (ipykernel)",
   "language": "python",
   "name": "python3"
  },
  "language_info": {
   "codemirror_mode": {
    "name": "ipython",
    "version": 3
   },
   "file_extension": ".py",
   "mimetype": "text/x-python",
   "name": "python",
   "nbconvert_exporter": "python",
   "pygments_lexer": "ipython3",
   "version": "3.10.8"
  }
 },
 "nbformat": 4,
 "nbformat_minor": 5
}
